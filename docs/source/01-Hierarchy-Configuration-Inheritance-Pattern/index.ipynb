{
 "cells": [
  {
   "cell_type": "markdown",
   "metadata": {},
   "source": [
    "# Hierarchical Configuration Inheritance Pattern: A Complete Guide\n",
    "\n",
    "## The Problem: Configuration Duplication\n",
    "\n",
    "### Why Traditional Configuration Management Is Painful\n",
    "\n",
    "Imagine you're building a microservice that needs to run in multiple environments. Without inheritance patterns, your configuration might look like this:"
   ]
  },
  {
   "cell_type": "code",
   "execution_count": 1,
   "metadata": {
    "ExecuteTime": {
     "end_time": "2023-05-31T00:11:58.421882Z",
     "start_time": "2023-05-31T00:11:58.414384Z"
    },
    "collapsed": false,
    "jupyter": {
     "outputs_hidden": false
    },
    "tags": []
   },
   "outputs": [],
   "source": [
    "# ❌ Traditional approach - lots of duplication\n",
    "traditional_config = {\n",
    "    \"dev\": {\n",
    "        \"database\": {\n",
    "            \"host\": \"dev-db.example.com\",\n",
    "            \"port\": 5432,\n",
    "            \"pool_size\": 10,\n",
    "            \"timeout\": 30,\n",
    "            \"ssl_mode\": \"prefer\",\n",
    "            \"retry_attempts\": 3\n",
    "        },\n",
    "        \"redis\": {\n",
    "            \"host\": \"dev-redis.example.com\", \n",
    "            \"port\": 6379,\n",
    "            \"timeout\": 10,\n",
    "            \"pool_size\": 20\n",
    "        },\n",
    "        \"logging\": {\n",
    "            \"level\": \"DEBUG\",\n",
    "            \"format\": \"detailed\"\n",
    "        }\n",
    "    },\n",
    "    \"staging\": {\n",
    "        \"database\": {\n",
    "            \"host\": \"staging-db.example.com\",\n",
    "            \"port\": 5432,           # 🔄 DUPLICATE\n",
    "            \"pool_size\": 10,        # 🔄 DUPLICATE\n",
    "            \"timeout\": 30,          # 🔄 DUPLICATE\n",
    "            \"ssl_mode\": \"prefer\",   # 🔄 DUPLICATE\n",
    "            \"retry_attempts\": 3     # 🔄 DUPLICATE\n",
    "        },\n",
    "        \"redis\": {\n",
    "            \"host\": \"staging-redis.example.com\",\n",
    "            \"port\": 6379,           # 🔄 DUPLICATE\n",
    "            \"timeout\": 10,          # 🔄 DUPLICATE\n",
    "            \"pool_size\": 20         # 🔄 DUPLICATE\n",
    "        },\n",
    "        \"logging\": {\n",
    "            \"level\": \"INFO\",\n",
    "            \"format\": \"detailed\"    # 🔄 DUPLICATE\n",
    "        }\n",
    "    },\n",
    "    \"prod\": {\n",
    "        \"database\": {\n",
    "            \"host\": \"prod-db.example.com\",\n",
    "            \"port\": 5432,           # 🔄 DUPLICATE\n",
    "            \"pool_size\": 50,        # Different value, but pattern repeats\n",
    "            \"timeout\": 30,          # 🔄 DUPLICATE\n",
    "            \"ssl_mode\": \"require\",  # Different value\n",
    "            \"retry_attempts\": 3     # 🔄 DUPLICATE\n",
    "        },\n",
    "        \"redis\": {\n",
    "            \"host\": \"prod-redis.example.com\",\n",
    "            \"port\": 6379,           # 🔄 DUPLICATE\n",
    "            \"timeout\": 10,          # 🔄 DUPLICATE\n",
    "            \"pool_size\": 50         # Different value\n",
    "        },\n",
    "        \"logging\": {\n",
    "            \"level\": \"ERROR\",\n",
    "            \"format\": \"detailed\"    # 🔄 DUPLICATE\n",
    "        }\n",
    "    }\n",
    "}"
   ]
  },
  {
   "cell_type": "markdown",
   "metadata": {},
   "source": [
    "### The Pain Points\n",
    "\n",
    "1. **🔄 Massive Duplication**: 80% of configuration values are repeated across environments\n",
    "2. **🐛 Error Prone**: Change a default port? You must remember to update it in 3+ places\n",
    "3. **📈 Scales Poorly**: Adding a new environment means copying and modifying everything\n",
    "4. **🔍 Hard to Understand**: What values are defaults vs environment-specific overrides?\n",
    "5. **🚀 Maintenance Nightmare**: Updating shared settings requires touching multiple sections\n",
    "\n",
    "---\n",
    "\n",
    "## The Solution: Hierarchical Inheritance\n",
    "\n",
    "### The DRY (Do Not Repeat Yourself) Approach with `_shared`\n",
    "\n",
    "The hierarchical pattern solves this by introducing a **`_shared` section** that defines defaults, which automatically inherit to all environments unless specifically overridden:"
   ]
  },
  {
   "cell_type": "code",
   "execution_count": 2,
   "metadata": {
    "ExecuteTime": {
     "end_time": "2023-05-31T00:11:58.457569Z",
     "start_time": "2023-05-31T00:11:58.419705Z"
    },
    "collapsed": false,
    "jupyter": {
     "outputs_hidden": false
    },
    "tags": []
   },
   "outputs": [],
   "source": [
    "# ✅ Hierarchical approach - DRY and maintainable\n",
    "hierarchical_config = {\n",
    "    \"_shared\": {\n",
    "        # 🎯 Define defaults ONCE\n",
    "        \"*.database.port\": 5432,\n",
    "        \"*.database.pool_size\": 10,\n",
    "        \"*.database.timeout\": 30,\n",
    "        \"*.database.ssl_mode\": \"prefer\",\n",
    "        \"*.database.retry_attempts\": 3,\n",
    "        \"*.redis.port\": 6379,\n",
    "        \"*.redis.timeout\": 10,\n",
    "        \"*.redis.pool_size\": 20,\n",
    "        \"*.logging.format\": \"detailed\"\n",
    "    },\n",
    "    \"dev\": {\n",
    "        \"database\": {\n",
    "            \"host\": \"dev-db.example.com\"\n",
    "            # 👆 All other database settings inherited from _shared\n",
    "        },\n",
    "        \"redis\": {\n",
    "            \"host\": \"dev-redis.example.com\"\n",
    "            # 👆 All other redis settings inherited from _shared\n",
    "        },\n",
    "        \"logging\": {\n",
    "            \"level\": \"DEBUG\"\n",
    "            # 👆 format inherited from _shared\n",
    "        }\n",
    "    },\n",
    "    \"staging\": {\n",
    "        \"database\": {\"host\": \"staging-db.example.com\"},\n",
    "        \"redis\": {\"host\": \"staging-redis.example.com\"},\n",
    "        \"logging\": {\"level\": \"INFO\"}\n",
    "    },\n",
    "    \"prod\": {\n",
    "        \"database\": {\n",
    "            \"host\": \"prod-db.example.com\",\n",
    "            \"pool_size\": 50,        # 🎯 Override default for production\n",
    "            \"ssl_mode\": \"require\"   # 🎯 Override default for production\n",
    "        },\n",
    "        \"redis\": {\n",
    "            \"host\": \"prod-redis.example.com\",\n",
    "            \"pool_size\": 50         # 🎯 Override default for production\n",
    "        },\n",
    "        \"logging\": {\"level\": \"ERROR\"}\n",
    "    }\n",
    "}"
   ]
  },
  {
   "cell_type": "markdown",
   "metadata": {},
   "source": [
    "---\n",
    "\n",
    "## Core Concepts\n",
    "\n",
    "### Setup"
   ]
  },
  {
   "cell_type": "code",
   "execution_count": 3,
   "metadata": {
    "ExecuteTime": {
     "end_time": "2023-05-31T00:11:58.463596Z",
     "start_time": "2023-05-31T00:11:58.459827Z"
    },
    "collapsed": false,
    "jupyter": {
     "outputs_hidden": false
    },
    "tags": []
   },
   "outputs": [
    {
     "ename": "ModuleNotFoundError",
     "evalue": "No module named 'configcraft.hierarchy'",
     "output_type": "error",
     "traceback": [
      "\u001b[31m---------------------------------------------------------------------------\u001b[39m",
      "\u001b[31mModuleNotFoundError\u001b[39m                       Traceback (most recent call last)",
      "\u001b[36mCell\u001b[39m\u001b[36m \u001b[39m\u001b[32mIn[3]\u001b[39m\u001b[32m, line 3\u001b[39m\n\u001b[32m      1\u001b[39m \u001b[38;5;28;01mimport\u001b[39;00m\u001b[38;5;250m \u001b[39m\u001b[34;01mjson\u001b[39;00m\n\u001b[32m      2\u001b[39m \u001b[38;5;28;01mfrom\u001b[39;00m\u001b[38;5;250m \u001b[39m\u001b[34;01mrich\u001b[39;00m\u001b[38;5;250m \u001b[39m\u001b[38;5;28;01mimport\u001b[39;00m \u001b[38;5;28mprint\u001b[39m \u001b[38;5;28;01mas\u001b[39;00m rprint\n\u001b[32m----> \u001b[39m\u001b[32m3\u001b[39m \u001b[38;5;28;01mfrom\u001b[39;00m\u001b[38;5;250m \u001b[39m\u001b[34;01mconfigcraft\u001b[39;00m\u001b[34;01m.\u001b[39;00m\u001b[34;01mhierarchy\u001b[39;00m\u001b[34;01m.\u001b[39;00m\u001b[34;01mapi\u001b[39;00m\u001b[38;5;250m \u001b[39m\u001b[38;5;28;01mimport\u001b[39;00m SHARED, apply_shared_value\n\u001b[32m      5\u001b[39m \u001b[38;5;28;01mdef\u001b[39;00m\u001b[38;5;250m \u001b[39m\u001b[34mjprint\u001b[39m(data: \u001b[38;5;28mdict\u001b[39m):\n\u001b[32m      6\u001b[39m \u001b[38;5;250m    \u001b[39m\u001b[33;03m\"\"\"Pretty print JSON data\"\"\"\u001b[39;00m\n",
      "\u001b[31mModuleNotFoundError\u001b[39m: No module named 'configcraft.hierarchy'"
     ]
    }
   ],
   "source": [
    "import json\n",
    "from rich import print as rprint\n",
    "from configcraft.hierarchy.api import SHARED, apply_shared_value\n",
    "\n",
    "def jprint(data: dict):\n",
    "    \"\"\"Pretty print JSON data\"\"\"\n",
    "    rprint(json.dumps(data, indent=2))"
   ]
  },
  {
   "cell_type": "markdown",
   "metadata": {},
   "source": [
    "### 1. The `_shared` Section\n",
    "\n",
    "The `_shared` section is a **meta-configuration** that defines inheritable defaults:"
   ]
  },
  {
   "cell_type": "code",
   "execution_count": 4,
   "metadata": {
    "ExecuteTime": {
     "end_time": "2023-05-31T00:11:58.467856Z",
     "start_time": "2023-05-31T00:11:58.465027Z"
    },
    "collapsed": false,
    "jupyter": {
     "outputs_hidden": false
    },
    "tags": []
   },
   "outputs": [],
   "source": [
    "config = {\n",
    "    \"_shared\": {\n",
    "        \"*.timeout\": 30,           # Apply to all environments\n",
    "        \"*.retry_attempts\": 3      # Apply to all environments  \n",
    "    },\n",
    "    \"dev\": {\"host\": \"dev.com\"},\n",
    "    \"prod\": {\"host\": \"prod.com\"}\n",
    "}"
   ]
  },
  {
   "cell_type": "markdown",
   "metadata": {},
   "source": [
    "### 2. JSON Path Patterns\n",
    "\n",
    "JSON paths specify **where** shared values should be applied:\n",
    "\n",
    "| Pattern | Meaning | Example |\n",
    "|---------|---------|---------|\n",
    "| `*.field` | All top-level keys | `*.timeout` → applies to dev.timeout, prod.timeout |\n",
    "| `env.field` | Specific environment | `dev.timeout` → applies only to dev.timeout |\n",
    "| `*.service.field` | Nested paths | `*.db.port` → applies to dev.db.port, prod.db.port |\n",
    "| `*.services.*.field` | Multiple wildcards | `*.apps.*.memory` → all apps in all environments |\n",
    "\n",
    "### 3. Non-Destructive Inheritance\n",
    "\n",
    "**Key Principle**: Shared values are only applied when the target key **doesn't already exist**."
   ]
  },
  {
   "cell_type": "code",
   "execution_count": 5,
   "metadata": {
    "ExecuteTime": {
     "end_time": "2023-05-31T00:11:58.475140Z",
     "start_time": "2023-05-31T00:11:58.468910Z"
    },
    "collapsed": false,
    "jupyter": {
     "outputs_hidden": false
    },
    "tags": []
   },
   "outputs": [],
   "source": [
    "config = {\n",
    "    \"_shared\": {\"*.memory\": 2},\n",
    "    \"dev\": {},                    # ✅ Will get memory: 2\n",
    "    \"prod\": {\"memory\": 8}         # ✅ Keeps existing memory: 8\n",
    "}"
   ]
  },
  {
   "cell_type": "markdown",
   "metadata": {},
   "source": [
    "---\n",
    "\n",
    "## Basic Usage\n",
    "\n",
    "### Example 1: Simple Environment Defaults"
   ]
  },
  {
   "cell_type": "code",
   "execution_count": 6,
   "metadata": {
    "ExecuteTime": {
     "end_time": "2023-05-31T00:11:58.479906Z",
     "start_time": "2023-05-31T00:11:58.475872Z"
    },
    "collapsed": false,
    "jupyter": {
     "outputs_hidden": false
    },
    "tags": []
   },
   "outputs": [
    {
     "data": {
      "text/html": [
       "<pre style=\"white-space:pre;overflow-x:auto;line-height:normal;font-family:Menlo,'DejaVu Sans Mono',consolas,'Courier New',monospace\"><span style=\"font-weight: bold\">{</span>\n",
       "  <span style=\"color: #008000; text-decoration-color: #008000\">\"dev\"</span>: <span style=\"font-weight: bold\">{</span>\n",
       "    <span style=\"color: #008000; text-decoration-color: #008000\">\"memory\"</span>: <span style=\"color: #008080; text-decoration-color: #008080; font-weight: bold\">2</span>,\n",
       "    <span style=\"color: #008000; text-decoration-color: #008000\">\"cpu\"</span>: <span style=\"color: #008080; text-decoration-color: #008080; font-weight: bold\">1</span>\n",
       "  <span style=\"font-weight: bold\">}</span>,\n",
       "  <span style=\"color: #008000; text-decoration-color: #008000\">\"staging\"</span>: <span style=\"font-weight: bold\">{</span>\n",
       "    <span style=\"color: #008000; text-decoration-color: #008000\">\"memory\"</span>: <span style=\"color: #008080; text-decoration-color: #008080; font-weight: bold\">4</span>,\n",
       "    <span style=\"color: #008000; text-decoration-color: #008000\">\"cpu\"</span>: <span style=\"color: #008080; text-decoration-color: #008080; font-weight: bold\">1</span>\n",
       "  <span style=\"font-weight: bold\">}</span>,\n",
       "  <span style=\"color: #008000; text-decoration-color: #008000\">\"prod\"</span>: <span style=\"font-weight: bold\">{</span>\n",
       "    <span style=\"color: #008000; text-decoration-color: #008000\">\"memory\"</span>: <span style=\"color: #008080; text-decoration-color: #008080; font-weight: bold\">8</span>,\n",
       "    <span style=\"color: #008000; text-decoration-color: #008000\">\"cpu\"</span>: <span style=\"color: #008080; text-decoration-color: #008080; font-weight: bold\">4</span>\n",
       "  <span style=\"font-weight: bold\">}</span>\n",
       "<span style=\"font-weight: bold\">}</span>\n",
       "</pre>\n"
      ],
      "text/plain": [
       "\u001b[1m{\u001b[0m\n",
       "  \u001b[32m\"dev\"\u001b[0m: \u001b[1m{\u001b[0m\n",
       "    \u001b[32m\"memory\"\u001b[0m: \u001b[1;36m2\u001b[0m,\n",
       "    \u001b[32m\"cpu\"\u001b[0m: \u001b[1;36m1\u001b[0m\n",
       "  \u001b[1m}\u001b[0m,\n",
       "  \u001b[32m\"staging\"\u001b[0m: \u001b[1m{\u001b[0m\n",
       "    \u001b[32m\"memory\"\u001b[0m: \u001b[1;36m4\u001b[0m,\n",
       "    \u001b[32m\"cpu\"\u001b[0m: \u001b[1;36m1\u001b[0m\n",
       "  \u001b[1m}\u001b[0m,\n",
       "  \u001b[32m\"prod\"\u001b[0m: \u001b[1m{\u001b[0m\n",
       "    \u001b[32m\"memory\"\u001b[0m: \u001b[1;36m8\u001b[0m,\n",
       "    \u001b[32m\"cpu\"\u001b[0m: \u001b[1;36m4\u001b[0m\n",
       "  \u001b[1m}\u001b[0m\n",
       "\u001b[1m}\u001b[0m\n"
      ]
     },
     "metadata": {},
     "output_type": "display_data"
    }
   ],
   "source": [
    "# Define configuration with shared defaults\n",
    "config_data = {\n",
    "    \"_shared\": {\n",
    "        \"*.memory\": 2,           # Default memory for all environments\n",
    "        \"*.cpu\": 1               # Default CPU for all environments\n",
    "    },\n",
    "    \"dev\": {},                   # Empty - will inherit all defaults\n",
    "    \"staging\": {\n",
    "        \"memory\": 4              # Override memory, inherit CPU\n",
    "    },\n",
    "    \"prod\": {\n",
    "        \"memory\": 8,             # Override memory\n",
    "        \"cpu\": 4                 # Override CPU\n",
    "    }\n",
    "}\n",
    "\n",
    "# Apply inheritance\n",
    "apply_shared_value(config_data)\n",
    "jprint(config_data)"
   ]
  },
  {
   "cell_type": "markdown",
   "metadata": {},
   "source": [
    "### Example 2: Nested Configuration Inheritance"
   ]
  },
  {
   "cell_type": "code",
   "execution_count": 7,
   "metadata": {
    "ExecuteTime": {
     "end_time": "2023-05-31T00:11:58.527338Z",
     "start_time": "2023-05-31T00:11:58.480775Z"
    },
    "collapsed": false,
    "jupyter": {
     "outputs_hidden": false
    },
    "tags": []
   },
   "outputs": [
    {
     "data": {
      "text/html": [
       "<pre style=\"white-space:pre;overflow-x:auto;line-height:normal;font-family:Menlo,'DejaVu Sans Mono',consolas,'Courier New',monospace\"><span style=\"font-weight: bold\">{</span>\n",
       "  <span style=\"color: #008000; text-decoration-color: #008000\">\"dev\"</span>: <span style=\"font-weight: bold\">{</span>\n",
       "    <span style=\"color: #008000; text-decoration-color: #008000\">\"database\"</span>: <span style=\"font-weight: bold\">{</span>\n",
       "      <span style=\"color: #008000; text-decoration-color: #008000\">\"host\"</span>: <span style=\"color: #008000; text-decoration-color: #008000\">\"localhost\"</span>,\n",
       "      <span style=\"color: #008000; text-decoration-color: #008000\">\"port\"</span>: <span style=\"color: #008080; text-decoration-color: #008080; font-weight: bold\">5432</span>,\n",
       "      <span style=\"color: #008000; text-decoration-color: #008000\">\"pool_size\"</span>: <span style=\"color: #008080; text-decoration-color: #008080; font-weight: bold\">10</span>\n",
       "    <span style=\"font-weight: bold\">}</span>,\n",
       "    <span style=\"color: #008000; text-decoration-color: #008000\">\"cache\"</span>: <span style=\"font-weight: bold\">{</span>\n",
       "      <span style=\"color: #008000; text-decoration-color: #008000\">\"host\"</span>: <span style=\"color: #008000; text-decoration-color: #008000\">\"localhost\"</span>,\n",
       "      <span style=\"color: #008000; text-decoration-color: #008000\">\"ttl\"</span>: <span style=\"color: #008080; text-decoration-color: #008080; font-weight: bold\">3600</span>\n",
       "    <span style=\"font-weight: bold\">}</span>\n",
       "  <span style=\"font-weight: bold\">}</span>,\n",
       "  <span style=\"color: #008000; text-decoration-color: #008000\">\"prod\"</span>: <span style=\"font-weight: bold\">{</span>\n",
       "    <span style=\"color: #008000; text-decoration-color: #008000\">\"database\"</span>: <span style=\"font-weight: bold\">{</span>\n",
       "      <span style=\"color: #008000; text-decoration-color: #008000\">\"host\"</span>: <span style=\"color: #008000; text-decoration-color: #008000\">\"prod-db.com\"</span>,\n",
       "      <span style=\"color: #008000; text-decoration-color: #008000\">\"pool_size\"</span>: <span style=\"color: #008080; text-decoration-color: #008080; font-weight: bold\">50</span>,\n",
       "      <span style=\"color: #008000; text-decoration-color: #008000\">\"port\"</span>: <span style=\"color: #008080; text-decoration-color: #008080; font-weight: bold\">5432</span>\n",
       "    <span style=\"font-weight: bold\">}</span>,\n",
       "    <span style=\"color: #008000; text-decoration-color: #008000\">\"cache\"</span>: <span style=\"font-weight: bold\">{</span>\n",
       "      <span style=\"color: #008000; text-decoration-color: #008000\">\"host\"</span>: <span style=\"color: #008000; text-decoration-color: #008000\">\"prod-cache.com\"</span>,\n",
       "      <span style=\"color: #008000; text-decoration-color: #008000\">\"ttl\"</span>: <span style=\"color: #008080; text-decoration-color: #008080; font-weight: bold\">7200</span>\n",
       "    <span style=\"font-weight: bold\">}</span>\n",
       "  <span style=\"font-weight: bold\">}</span>\n",
       "<span style=\"font-weight: bold\">}</span>\n",
       "</pre>\n"
      ],
      "text/plain": [
       "\u001b[1m{\u001b[0m\n",
       "  \u001b[32m\"dev\"\u001b[0m: \u001b[1m{\u001b[0m\n",
       "    \u001b[32m\"database\"\u001b[0m: \u001b[1m{\u001b[0m\n",
       "      \u001b[32m\"host\"\u001b[0m: \u001b[32m\"localhost\"\u001b[0m,\n",
       "      \u001b[32m\"port\"\u001b[0m: \u001b[1;36m5432\u001b[0m,\n",
       "      \u001b[32m\"pool_size\"\u001b[0m: \u001b[1;36m10\u001b[0m\n",
       "    \u001b[1m}\u001b[0m,\n",
       "    \u001b[32m\"cache\"\u001b[0m: \u001b[1m{\u001b[0m\n",
       "      \u001b[32m\"host\"\u001b[0m: \u001b[32m\"localhost\"\u001b[0m,\n",
       "      \u001b[32m\"ttl\"\u001b[0m: \u001b[1;36m3600\u001b[0m\n",
       "    \u001b[1m}\u001b[0m\n",
       "  \u001b[1m}\u001b[0m,\n",
       "  \u001b[32m\"prod\"\u001b[0m: \u001b[1m{\u001b[0m\n",
       "    \u001b[32m\"database\"\u001b[0m: \u001b[1m{\u001b[0m\n",
       "      \u001b[32m\"host\"\u001b[0m: \u001b[32m\"prod-db.com\"\u001b[0m,\n",
       "      \u001b[32m\"pool_size\"\u001b[0m: \u001b[1;36m50\u001b[0m,\n",
       "      \u001b[32m\"port\"\u001b[0m: \u001b[1;36m5432\u001b[0m\n",
       "    \u001b[1m}\u001b[0m,\n",
       "    \u001b[32m\"cache\"\u001b[0m: \u001b[1m{\u001b[0m\n",
       "      \u001b[32m\"host\"\u001b[0m: \u001b[32m\"prod-cache.com\"\u001b[0m,\n",
       "      \u001b[32m\"ttl\"\u001b[0m: \u001b[1;36m7200\u001b[0m\n",
       "    \u001b[1m}\u001b[0m\n",
       "  \u001b[1m}\u001b[0m\n",
       "\u001b[1m}\u001b[0m\n"
      ]
     },
     "metadata": {},
     "output_type": "display_data"
    }
   ],
   "source": [
    "config_data = {\n",
    "    \"_shared\": {\n",
    "        \"*.database.port\": 5432,\n",
    "        \"*.database.pool_size\": 10,\n",
    "        \"*.cache.ttl\": 3600\n",
    "    },\n",
    "    \"dev\": {\n",
    "        \"database\": {\n",
    "            \"host\": \"localhost\"\n",
    "            # port and pool_size will be inherited\n",
    "        },\n",
    "        \"cache\": {\n",
    "            \"host\": \"localhost\"\n",
    "            # ttl will be inherited\n",
    "        }\n",
    "    },\n",
    "    \"prod\": {\n",
    "        \"database\": {\n",
    "            \"host\": \"prod-db.com\",\n",
    "            \"pool_size\": 50        # Override default\n",
    "            # port will be inherited\n",
    "        },\n",
    "        \"cache\": {\n",
    "            \"host\": \"prod-cache.com\",\n",
    "            \"ttl\": 7200           # Override default\n",
    "        }\n",
    "    }\n",
    "}\n",
    "\n",
    "apply_shared_value(config_data)\n",
    "jprint(config_data)"
   ]
  },
  {
   "cell_type": "markdown",
   "metadata": {},
   "source": [
    "---\n",
    "\n",
    "## Advanced Patterns\n",
    "\n",
    "### Working with Lists of Objects\n",
    "\n",
    "The inheritance pattern works seamlessly with **lists of dictionaries**:"
   ]
  },
  {
   "cell_type": "code",
   "execution_count": 8,
   "metadata": {},
   "outputs": [
    {
     "data": {
      "text/html": [
       "<pre style=\"white-space:pre;overflow-x:auto;line-height:normal;font-family:Menlo,'DejaVu Sans Mono',consolas,'Courier New',monospace\"><span style=\"font-weight: bold\">{</span>\n",
       "  <span style=\"color: #008000; text-decoration-color: #008000\">\"dev\"</span>: <span style=\"font-weight: bold\">{</span>\n",
       "    <span style=\"color: #008000; text-decoration-color: #008000\">\"databases\"</span>: <span style=\"font-weight: bold\">[</span>\n",
       "      <span style=\"font-weight: bold\">{</span>\n",
       "        <span style=\"color: #008000; text-decoration-color: #008000\">\"host\"</span>: <span style=\"color: #008000; text-decoration-color: #008000\">\"dev-primary.com\"</span>,\n",
       "        <span style=\"color: #008000; text-decoration-color: #008000\">\"type\"</span>: <span style=\"color: #008000; text-decoration-color: #008000\">\"primary\"</span>,\n",
       "        <span style=\"color: #008000; text-decoration-color: #008000\">\"port\"</span>: <span style=\"color: #008080; text-decoration-color: #008080; font-weight: bold\">5432</span>,\n",
       "        <span style=\"color: #008000; text-decoration-color: #008000\">\"timeout\"</span>: <span style=\"color: #008080; text-decoration-color: #008080; font-weight: bold\">30</span>\n",
       "      <span style=\"font-weight: bold\">}</span>,\n",
       "      <span style=\"font-weight: bold\">{</span>\n",
       "        <span style=\"color: #008000; text-decoration-color: #008000\">\"host\"</span>: <span style=\"color: #008000; text-decoration-color: #008000\">\"dev-replica.com\"</span>,\n",
       "        <span style=\"color: #008000; text-decoration-color: #008000\">\"type\"</span>: <span style=\"color: #008000; text-decoration-color: #008000\">\"replica\"</span>,\n",
       "        <span style=\"color: #008000; text-decoration-color: #008000\">\"port\"</span>: <span style=\"color: #008080; text-decoration-color: #008080; font-weight: bold\">5432</span>,\n",
       "        <span style=\"color: #008000; text-decoration-color: #008000\">\"timeout\"</span>: <span style=\"color: #008080; text-decoration-color: #008080; font-weight: bold\">30</span>\n",
       "      <span style=\"font-weight: bold\">}</span>\n",
       "    <span style=\"font-weight: bold\">]</span>\n",
       "  <span style=\"font-weight: bold\">}</span>,\n",
       "  <span style=\"color: #008000; text-decoration-color: #008000\">\"prod\"</span>: <span style=\"font-weight: bold\">{</span>\n",
       "    <span style=\"color: #008000; text-decoration-color: #008000\">\"databases\"</span>: <span style=\"font-weight: bold\">[</span>\n",
       "      <span style=\"font-weight: bold\">{</span>\n",
       "        <span style=\"color: #008000; text-decoration-color: #008000\">\"host\"</span>: <span style=\"color: #008000; text-decoration-color: #008000\">\"prod-primary.com\"</span>,\n",
       "        <span style=\"color: #008000; text-decoration-color: #008000\">\"type\"</span>: <span style=\"color: #008000; text-decoration-color: #008000\">\"primary\"</span>,\n",
       "        <span style=\"color: #008000; text-decoration-color: #008000\">\"port\"</span>: <span style=\"color: #008080; text-decoration-color: #008080; font-weight: bold\">5432</span>,\n",
       "        <span style=\"color: #008000; text-decoration-color: #008000\">\"timeout\"</span>: <span style=\"color: #008080; text-decoration-color: #008080; font-weight: bold\">30</span>\n",
       "      <span style=\"font-weight: bold\">}</span>,\n",
       "      <span style=\"font-weight: bold\">{</span>\n",
       "        <span style=\"color: #008000; text-decoration-color: #008000\">\"host\"</span>: <span style=\"color: #008000; text-decoration-color: #008000\">\"prod-replica.com\"</span>,\n",
       "        <span style=\"color: #008000; text-decoration-color: #008000\">\"type\"</span>: <span style=\"color: #008000; text-decoration-color: #008000\">\"replica\"</span>,\n",
       "        <span style=\"color: #008000; text-decoration-color: #008000\">\"port\"</span>: <span style=\"color: #008080; text-decoration-color: #008080; font-weight: bold\">5433</span>,\n",
       "        <span style=\"color: #008000; text-decoration-color: #008000\">\"timeout\"</span>: <span style=\"color: #008080; text-decoration-color: #008080; font-weight: bold\">30</span>\n",
       "      <span style=\"font-weight: bold\">}</span>\n",
       "    <span style=\"font-weight: bold\">]</span>\n",
       "  <span style=\"font-weight: bold\">}</span>\n",
       "<span style=\"font-weight: bold\">}</span>\n",
       "</pre>\n"
      ],
      "text/plain": [
       "\u001b[1m{\u001b[0m\n",
       "  \u001b[32m\"dev\"\u001b[0m: \u001b[1m{\u001b[0m\n",
       "    \u001b[32m\"databases\"\u001b[0m: \u001b[1m[\u001b[0m\n",
       "      \u001b[1m{\u001b[0m\n",
       "        \u001b[32m\"host\"\u001b[0m: \u001b[32m\"dev-primary.com\"\u001b[0m,\n",
       "        \u001b[32m\"type\"\u001b[0m: \u001b[32m\"primary\"\u001b[0m,\n",
       "        \u001b[32m\"port\"\u001b[0m: \u001b[1;36m5432\u001b[0m,\n",
       "        \u001b[32m\"timeout\"\u001b[0m: \u001b[1;36m30\u001b[0m\n",
       "      \u001b[1m}\u001b[0m,\n",
       "      \u001b[1m{\u001b[0m\n",
       "        \u001b[32m\"host\"\u001b[0m: \u001b[32m\"dev-replica.com\"\u001b[0m,\n",
       "        \u001b[32m\"type\"\u001b[0m: \u001b[32m\"replica\"\u001b[0m,\n",
       "        \u001b[32m\"port\"\u001b[0m: \u001b[1;36m5432\u001b[0m,\n",
       "        \u001b[32m\"timeout\"\u001b[0m: \u001b[1;36m30\u001b[0m\n",
       "      \u001b[1m}\u001b[0m\n",
       "    \u001b[1m]\u001b[0m\n",
       "  \u001b[1m}\u001b[0m,\n",
       "  \u001b[32m\"prod\"\u001b[0m: \u001b[1m{\u001b[0m\n",
       "    \u001b[32m\"databases\"\u001b[0m: \u001b[1m[\u001b[0m\n",
       "      \u001b[1m{\u001b[0m\n",
       "        \u001b[32m\"host\"\u001b[0m: \u001b[32m\"prod-primary.com\"\u001b[0m,\n",
       "        \u001b[32m\"type\"\u001b[0m: \u001b[32m\"primary\"\u001b[0m,\n",
       "        \u001b[32m\"port\"\u001b[0m: \u001b[1;36m5432\u001b[0m,\n",
       "        \u001b[32m\"timeout\"\u001b[0m: \u001b[1;36m30\u001b[0m\n",
       "      \u001b[1m}\u001b[0m,\n",
       "      \u001b[1m{\u001b[0m\n",
       "        \u001b[32m\"host\"\u001b[0m: \u001b[32m\"prod-replica.com\"\u001b[0m,\n",
       "        \u001b[32m\"type\"\u001b[0m: \u001b[32m\"replica\"\u001b[0m,\n",
       "        \u001b[32m\"port\"\u001b[0m: \u001b[1;36m5433\u001b[0m,\n",
       "        \u001b[32m\"timeout\"\u001b[0m: \u001b[1;36m30\u001b[0m\n",
       "      \u001b[1m}\u001b[0m\n",
       "    \u001b[1m]\u001b[0m\n",
       "  \u001b[1m}\u001b[0m\n",
       "\u001b[1m}\u001b[0m\n"
      ]
     },
     "metadata": {},
     "output_type": "display_data"
    }
   ],
   "source": [
    "config_data = {\n",
    "    \"_shared\": {\n",
    "        \"*.databases.port\": 5432,      # Apply to ALL database objects\n",
    "        \"*.databases.timeout\": 30      # Apply to ALL database objects\n",
    "    },\n",
    "    \"dev\": {\n",
    "        \"databases\": [\n",
    "            {\"host\": \"dev-primary.com\", \"type\": \"primary\"},\n",
    "            {\"host\": \"dev-replica.com\", \"type\": \"replica\"}\n",
    "            # Both will inherit port and timeout\n",
    "        ]\n",
    "    },\n",
    "    \"prod\": {\n",
    "        \"databases\": [\n",
    "            {\"host\": \"prod-primary.com\", \"type\": \"primary\"},\n",
    "            {\"host\": \"prod-replica.com\", \"type\": \"replica\", \"port\": 5433}\n",
    "            # First inherits port, second keeps override\n",
    "        ]\n",
    "    }\n",
    "}\n",
    "\n",
    "apply_shared_value(config_data)\n",
    "jprint(config_data)"
   ]
  },
  {
   "cell_type": "markdown",
   "metadata": {},
   "source": [
    "### Specific Environment Targeting\n",
    "\n",
    "Sometimes you want to set defaults for **specific environments only**:"
   ]
  },
  {
   "cell_type": "code",
   "execution_count": 9,
   "metadata": {},
   "outputs": [
    {
     "data": {
      "text/html": [
       "<pre style=\"white-space:pre;overflow-x:auto;line-height:normal;font-family:Menlo,'DejaVu Sans Mono',consolas,'Courier New',monospace\"><span style=\"font-weight: bold\">{</span>\n",
       "  <span style=\"color: #008000; text-decoration-color: #008000\">\"dev\"</span>: <span style=\"font-weight: bold\">{</span>\n",
       "    <span style=\"color: #008000; text-decoration-color: #008000\">\"web\"</span>: <span style=\"font-weight: bold\">{</span>\n",
       "      <span style=\"color: #008000; text-decoration-color: #008000\">\"memory\"</span>: <span style=\"color: #008080; text-decoration-color: #008080; font-weight: bold\">4</span>\n",
       "    <span style=\"font-weight: bold\">}</span>,\n",
       "    <span style=\"color: #008000; text-decoration-color: #008000\">\"worker\"</span>: <span style=\"font-weight: bold\">{</span>\n",
       "      <span style=\"color: #008000; text-decoration-color: #008000\">\"memory\"</span>: <span style=\"color: #008080; text-decoration-color: #008080; font-weight: bold\">4</span>\n",
       "    <span style=\"font-weight: bold\">}</span>,\n",
       "    <span style=\"color: #008000; text-decoration-color: #008000\">\"log_level\"</span>: <span style=\"color: #008000; text-decoration-color: #008000\">\"INFO\"</span>\n",
       "  <span style=\"font-weight: bold\">}</span>,\n",
       "  <span style=\"color: #008000; text-decoration-color: #008000\">\"staging\"</span>: <span style=\"font-weight: bold\">{</span>\n",
       "    <span style=\"color: #008000; text-decoration-color: #008000\">\"web\"</span>: <span style=\"font-weight: bold\">{}</span>,\n",
       "    <span style=\"color: #008000; text-decoration-color: #008000\">\"worker\"</span>: <span style=\"font-weight: bold\">{</span>\n",
       "      <span style=\"color: #008000; text-decoration-color: #008000\">\"memory\"</span>: <span style=\"color: #008080; text-decoration-color: #008080; font-weight: bold\">8</span>\n",
       "    <span style=\"font-weight: bold\">}</span>,\n",
       "    <span style=\"color: #008000; text-decoration-color: #008000\">\"log_level\"</span>: <span style=\"color: #008000; text-decoration-color: #008000\">\"INFO\"</span>\n",
       "  <span style=\"font-weight: bold\">}</span>,\n",
       "  <span style=\"color: #008000; text-decoration-color: #008000\">\"prod\"</span>: <span style=\"font-weight: bold\">{</span>\n",
       "    <span style=\"color: #008000; text-decoration-color: #008000\">\"web\"</span>: <span style=\"font-weight: bold\">{</span>\n",
       "      <span style=\"color: #008000; text-decoration-color: #008000\">\"memory\"</span>: <span style=\"color: #008080; text-decoration-color: #008080; font-weight: bold\">16</span>\n",
       "    <span style=\"font-weight: bold\">}</span>,\n",
       "    <span style=\"color: #008000; text-decoration-color: #008000\">\"worker\"</span>: <span style=\"font-weight: bold\">{</span>\n",
       "      <span style=\"color: #008000; text-decoration-color: #008000\">\"memory\"</span>: <span style=\"color: #008080; text-decoration-color: #008080; font-weight: bold\">32</span>\n",
       "    <span style=\"font-weight: bold\">}</span>,\n",
       "    <span style=\"color: #008000; text-decoration-color: #008000\">\"log_level\"</span>: <span style=\"color: #008000; text-decoration-color: #008000\">\"INFO\"</span>\n",
       "  <span style=\"font-weight: bold\">}</span>\n",
       "<span style=\"font-weight: bold\">}</span>\n",
       "</pre>\n"
      ],
      "text/plain": [
       "\u001b[1m{\u001b[0m\n",
       "  \u001b[32m\"dev\"\u001b[0m: \u001b[1m{\u001b[0m\n",
       "    \u001b[32m\"web\"\u001b[0m: \u001b[1m{\u001b[0m\n",
       "      \u001b[32m\"memory\"\u001b[0m: \u001b[1;36m4\u001b[0m\n",
       "    \u001b[1m}\u001b[0m,\n",
       "    \u001b[32m\"worker\"\u001b[0m: \u001b[1m{\u001b[0m\n",
       "      \u001b[32m\"memory\"\u001b[0m: \u001b[1;36m4\u001b[0m\n",
       "    \u001b[1m}\u001b[0m,\n",
       "    \u001b[32m\"log_level\"\u001b[0m: \u001b[32m\"INFO\"\u001b[0m\n",
       "  \u001b[1m}\u001b[0m,\n",
       "  \u001b[32m\"staging\"\u001b[0m: \u001b[1m{\u001b[0m\n",
       "    \u001b[32m\"web\"\u001b[0m: \u001b[1m{\u001b[0m\u001b[1m}\u001b[0m,\n",
       "    \u001b[32m\"worker\"\u001b[0m: \u001b[1m{\u001b[0m\n",
       "      \u001b[32m\"memory\"\u001b[0m: \u001b[1;36m8\u001b[0m\n",
       "    \u001b[1m}\u001b[0m,\n",
       "    \u001b[32m\"log_level\"\u001b[0m: \u001b[32m\"INFO\"\u001b[0m\n",
       "  \u001b[1m}\u001b[0m,\n",
       "  \u001b[32m\"prod\"\u001b[0m: \u001b[1m{\u001b[0m\n",
       "    \u001b[32m\"web\"\u001b[0m: \u001b[1m{\u001b[0m\n",
       "      \u001b[32m\"memory\"\u001b[0m: \u001b[1;36m16\u001b[0m\n",
       "    \u001b[1m}\u001b[0m,\n",
       "    \u001b[32m\"worker\"\u001b[0m: \u001b[1m{\u001b[0m\n",
       "      \u001b[32m\"memory\"\u001b[0m: \u001b[1;36m32\u001b[0m\n",
       "    \u001b[1m}\u001b[0m,\n",
       "    \u001b[32m\"log_level\"\u001b[0m: \u001b[32m\"INFO\"\u001b[0m\n",
       "  \u001b[1m}\u001b[0m\n",
       "\u001b[1m}\u001b[0m\n"
      ]
     },
     "metadata": {},
     "output_type": "display_data"
    }
   ],
   "source": [
    "config_data = {\n",
    "    \"_shared\": {\n",
    "        \"dev.*.memory\": 4,          # Only dev environments get 4GB\n",
    "        \"prod.*.memory\": 16,        # Only prod environments get 16GB\n",
    "        \"*.log_level\": \"INFO\"       # All environments get INFO logging\n",
    "    },\n",
    "    \"dev\": {\n",
    "        \"web\": {},                  # Will get memory: 4, log_level: \"INFO\"\n",
    "        \"worker\": {}                # Will get memory: 4, log_level: \"INFO\"\n",
    "    },\n",
    "    \"staging\": {\n",
    "        \"web\": {},                  # Will get log_level: \"INFO\" only\n",
    "        \"worker\": {\"memory\": 8}     # Custom memory, inherits log_level\n",
    "    },\n",
    "    \"prod\": {\n",
    "        \"web\": {},                  # Will get memory: 16, log_level: \"INFO\"\n",
    "        \"worker\": {\"memory\": 32}    # Custom memory, inherits log_level\n",
    "    }\n",
    "}\n",
    "\n",
    "apply_shared_value(config_data)\n",
    "jprint(config_data)"
   ]
  },
  {
   "cell_type": "markdown",
   "metadata": {},
   "source": [
    "### Nested `_shared` Sections (Advanced Override)\n",
    "\n",
    "You can have **multiple levels** of `_shared` sections for fine-grained control:"
   ]
  },
  {
   "cell_type": "code",
   "execution_count": 10,
   "metadata": {},
   "outputs": [
    {
     "data": {
      "text/html": [
       "<pre style=\"white-space:pre;overflow-x:auto;line-height:normal;font-family:Menlo,'DejaVu Sans Mono',consolas,'Courier New',monospace\"><span style=\"font-weight: bold\">{</span>\n",
       "  <span style=\"color: #008000; text-decoration-color: #008000\">\"dev\"</span>: <span style=\"font-weight: bold\">{</span>\n",
       "    <span style=\"color: #008000; text-decoration-color: #008000\">\"web\"</span>: <span style=\"font-weight: bold\">{</span>\n",
       "      <span style=\"color: #008000; text-decoration-color: #008000\">\"memory\"</span>: <span style=\"color: #008080; text-decoration-color: #008080; font-weight: bold\">4</span>,\n",
       "      <span style=\"color: #008000; text-decoration-color: #008000\">\"debug\"</span>: true,\n",
       "      <span style=\"color: #008000; text-decoration-color: #008000\">\"log_level\"</span>: <span style=\"color: #008000; text-decoration-color: #008000\">\"INFO\"</span>\n",
       "    <span style=\"font-weight: bold\">}</span>,\n",
       "    <span style=\"color: #008000; text-decoration-color: #008000\">\"worker\"</span>: <span style=\"font-weight: bold\">{</span>\n",
       "      <span style=\"color: #008000; text-decoration-color: #008000\">\"memory\"</span>: <span style=\"color: #008080; text-decoration-color: #008080; font-weight: bold\">8</span>,\n",
       "      <span style=\"color: #008000; text-decoration-color: #008000\">\"debug\"</span>: true,\n",
       "      <span style=\"color: #008000; text-decoration-color: #008000\">\"log_level\"</span>: <span style=\"color: #008000; text-decoration-color: #008000\">\"INFO\"</span>\n",
       "    <span style=\"font-weight: bold\">}</span>\n",
       "  <span style=\"font-weight: bold\">}</span>,\n",
       "  <span style=\"color: #008000; text-decoration-color: #008000\">\"prod\"</span>: <span style=\"font-weight: bold\">{</span>\n",
       "    <span style=\"color: #008000; text-decoration-color: #008000\">\"web\"</span>: <span style=\"font-weight: bold\">{</span>\n",
       "      <span style=\"color: #008000; text-decoration-color: #008000\">\"log_level\"</span>: <span style=\"color: #008000; text-decoration-color: #008000\">\"ERROR\"</span>,\n",
       "      <span style=\"color: #008000; text-decoration-color: #008000\">\"memory\"</span>: <span style=\"color: #008080; text-decoration-color: #008080; font-weight: bold\">2</span>\n",
       "    <span style=\"font-weight: bold\">}</span>,\n",
       "    <span style=\"color: #008000; text-decoration-color: #008000\">\"worker\"</span>: <span style=\"font-weight: bold\">{</span>\n",
       "      <span style=\"color: #008000; text-decoration-color: #008000\">\"log_level\"</span>: <span style=\"color: #008000; text-decoration-color: #008000\">\"ERROR\"</span>,\n",
       "      <span style=\"color: #008000; text-decoration-color: #008000\">\"memory\"</span>: <span style=\"color: #008080; text-decoration-color: #008080; font-weight: bold\">2</span>\n",
       "    <span style=\"font-weight: bold\">}</span>\n",
       "  <span style=\"font-weight: bold\">}</span>\n",
       "<span style=\"font-weight: bold\">}</span>\n",
       "</pre>\n"
      ],
      "text/plain": [
       "\u001b[1m{\u001b[0m\n",
       "  \u001b[32m\"dev\"\u001b[0m: \u001b[1m{\u001b[0m\n",
       "    \u001b[32m\"web\"\u001b[0m: \u001b[1m{\u001b[0m\n",
       "      \u001b[32m\"memory\"\u001b[0m: \u001b[1;36m4\u001b[0m,\n",
       "      \u001b[32m\"debug\"\u001b[0m: true,\n",
       "      \u001b[32m\"log_level\"\u001b[0m: \u001b[32m\"INFO\"\u001b[0m\n",
       "    \u001b[1m}\u001b[0m,\n",
       "    \u001b[32m\"worker\"\u001b[0m: \u001b[1m{\u001b[0m\n",
       "      \u001b[32m\"memory\"\u001b[0m: \u001b[1;36m8\u001b[0m,\n",
       "      \u001b[32m\"debug\"\u001b[0m: true,\n",
       "      \u001b[32m\"log_level\"\u001b[0m: \u001b[32m\"INFO\"\u001b[0m\n",
       "    \u001b[1m}\u001b[0m\n",
       "  \u001b[1m}\u001b[0m,\n",
       "  \u001b[32m\"prod\"\u001b[0m: \u001b[1m{\u001b[0m\n",
       "    \u001b[32m\"web\"\u001b[0m: \u001b[1m{\u001b[0m\n",
       "      \u001b[32m\"log_level\"\u001b[0m: \u001b[32m\"ERROR\"\u001b[0m,\n",
       "      \u001b[32m\"memory\"\u001b[0m: \u001b[1;36m2\u001b[0m\n",
       "    \u001b[1m}\u001b[0m,\n",
       "    \u001b[32m\"worker\"\u001b[0m: \u001b[1m{\u001b[0m\n",
       "      \u001b[32m\"log_level\"\u001b[0m: \u001b[32m\"ERROR\"\u001b[0m,\n",
       "      \u001b[32m\"memory\"\u001b[0m: \u001b[1;36m2\u001b[0m\n",
       "    \u001b[1m}\u001b[0m\n",
       "  \u001b[1m}\u001b[0m\n",
       "\u001b[1m}\u001b[0m\n"
      ]
     },
     "metadata": {},
     "output_type": "display_data"
    }
   ],
   "source": [
    "config_data = {\n",
    "    \"_shared\": {\n",
    "        \"*.*.memory\": 2,            # Global default: 2GB for all services\n",
    "        \"*.*.log_level\": \"INFO\"     # Global default: INFO logging\n",
    "    },\n",
    "    \"dev\": {\n",
    "        \"_shared\": {\n",
    "            \"*.memory\": 4,          # Dev-specific: Override memory to 4GB\n",
    "            \"*.debug\": True         # Dev-specific: Enable debug mode\n",
    "        },\n",
    "        \"web\": {},                  # Gets: memory=4, log_level=\"INFO\", debug=True\n",
    "        \"worker\": {\"memory\": 8}     # Gets: memory=8 (override), log_level=\"INFO\", debug=True\n",
    "    },\n",
    "    \"prod\": {\n",
    "        \"_shared\": {\n",
    "            \"*.log_level\": \"ERROR\"  # Prod-specific: Only log errors\n",
    "        },\n",
    "        \"web\": {},                  # Gets: memory=2, log_level=\"ERROR\"\n",
    "        \"worker\": {}                # Gets: memory=2, log_level=\"ERROR\"\n",
    "    }\n",
    "}\n",
    "\n",
    "apply_shared_value(config_data)\n",
    "jprint(config_data)"
   ]
  },
  {
   "cell_type": "markdown",
   "metadata": {},
   "source": [
    "---\n",
    "\n",
    "## Understanding the API\n",
    "\n",
    "The hierarchical configuration pattern provides two main functions with different purposes:\n",
    "\n",
    "### `inherit_shared_value()` - Low-Level Inheritance\n",
    "\n",
    "This is the **core building block** that applies a single shared value to its target location(s):"
   ]
  },
  {
   "cell_type": "code",
   "execution_count": 11,
   "metadata": {},
   "outputs": [
    {
     "data": {
      "text/html": [
       "<pre style=\"white-space:pre;overflow-x:auto;line-height:normal;font-family:Menlo,'DejaVu Sans Mono',consolas,'Courier New',monospace\"><span style=\"font-weight: bold\">{</span>\n",
       "  <span style=\"color: #008000; text-decoration-color: #008000\">\"dev\"</span>: <span style=\"font-weight: bold\">{</span>\n",
       "    <span style=\"color: #008000; text-decoration-color: #008000\">\"host\"</span>: <span style=\"color: #008000; text-decoration-color: #008000\">\"dev.com\"</span>,\n",
       "    <span style=\"color: #008000; text-decoration-color: #008000\">\"port\"</span>: <span style=\"color: #008080; text-decoration-color: #008080; font-weight: bold\">3000</span>\n",
       "  <span style=\"font-weight: bold\">}</span>,\n",
       "  <span style=\"color: #008000; text-decoration-color: #008000\">\"prod\"</span>: <span style=\"font-weight: bold\">{</span>\n",
       "    <span style=\"color: #008000; text-decoration-color: #008000\">\"host\"</span>: <span style=\"color: #008000; text-decoration-color: #008000\">\"prod.com\"</span>,\n",
       "    <span style=\"color: #008000; text-decoration-color: #008000\">\"port\"</span>: <span style=\"color: #008080; text-decoration-color: #008080; font-weight: bold\">8080</span>\n",
       "  <span style=\"font-weight: bold\">}</span>\n",
       "<span style=\"font-weight: bold\">}</span>\n",
       "</pre>\n"
      ],
      "text/plain": [
       "\u001b[1m{\u001b[0m\n",
       "  \u001b[32m\"dev\"\u001b[0m: \u001b[1m{\u001b[0m\n",
       "    \u001b[32m\"host\"\u001b[0m: \u001b[32m\"dev.com\"\u001b[0m,\n",
       "    \u001b[32m\"port\"\u001b[0m: \u001b[1;36m3000\u001b[0m\n",
       "  \u001b[1m}\u001b[0m,\n",
       "  \u001b[32m\"prod\"\u001b[0m: \u001b[1m{\u001b[0m\n",
       "    \u001b[32m\"host\"\u001b[0m: \u001b[32m\"prod.com\"\u001b[0m,\n",
       "    \u001b[32m\"port\"\u001b[0m: \u001b[1;36m8080\u001b[0m\n",
       "  \u001b[1m}\u001b[0m\n",
       "\u001b[1m}\u001b[0m\n"
      ]
     },
     "metadata": {},
     "output_type": "display_data"
    }
   ],
   "source": [
    "from config_patterns.patterns.hierarchy.impl import inherit_shared_value\n",
    "\n",
    "# Example: Set a default value only where it doesn't exist\n",
    "data = {\n",
    "    \"dev\": {\"host\": \"dev.com\"},\n",
    "    \"prod\": {\"host\": \"prod.com\", \"port\": 8080}  # Already has port\n",
    "}\n",
    "\n",
    "# Apply default port to all environments\n",
    "inherit_shared_value(path=\"*.port\", value=3000, data=data)\n",
    "\n",
    "jprint(data)"
   ]
  },
  {
   "cell_type": "markdown",
   "metadata": {},
   "source": [
    "**When to use `inherit_shared_value()`:**\n",
    "- ✅ Building custom inheritance logic\n",
    "- ✅ Applying a single default value\n",
    "- ✅ Fine-grained control over inheritance behavior\n",
    "- ❌ Processing complete `_shared` configurations (use `apply_shared_value` instead)\n",
    "\n",
    "### `apply_shared_value()` - High-Level Configuration Processing\n",
    "\n",
    "This is the **main entry point** that processes entire configuration structures with `_shared` sections:\n"
   ]
  },
  {
   "cell_type": "code",
   "execution_count": 12,
   "metadata": {},
   "outputs": [
    {
     "data": {
      "text/html": [
       "<pre style=\"white-space:pre;overflow-x:auto;line-height:normal;font-family:Menlo,'DejaVu Sans Mono',consolas,'Courier New',monospace\"><span style=\"font-weight: bold\">{</span>\n",
       "  <span style=\"color: #008000; text-decoration-color: #008000\">\"dev\"</span>: <span style=\"font-weight: bold\">{</span>\n",
       "    <span style=\"color: #008000; text-decoration-color: #008000\">\"host\"</span>: <span style=\"color: #008000; text-decoration-color: #008000\">\"dev.com\"</span>,\n",
       "    <span style=\"color: #008000; text-decoration-color: #008000\">\"port\"</span>: <span style=\"color: #008080; text-decoration-color: #008080; font-weight: bold\">3000</span>,\n",
       "    <span style=\"color: #008000; text-decoration-color: #008000\">\"timeout\"</span>: <span style=\"color: #008080; text-decoration-color: #008080; font-weight: bold\">30</span>\n",
       "  <span style=\"font-weight: bold\">}</span>,\n",
       "  <span style=\"color: #008000; text-decoration-color: #008000\">\"prod\"</span>: <span style=\"font-weight: bold\">{</span>\n",
       "    <span style=\"color: #008000; text-decoration-color: #008000\">\"host\"</span>: <span style=\"color: #008000; text-decoration-color: #008000\">\"prod.com\"</span>,\n",
       "    <span style=\"color: #008000; text-decoration-color: #008000\">\"port\"</span>: <span style=\"color: #008080; text-decoration-color: #008080; font-weight: bold\">8080</span>,\n",
       "    <span style=\"color: #008000; text-decoration-color: #008000\">\"timeout\"</span>: <span style=\"color: #008080; text-decoration-color: #008080; font-weight: bold\">30</span>\n",
       "  <span style=\"font-weight: bold\">}</span>\n",
       "<span style=\"font-weight: bold\">}</span>\n",
       "</pre>\n"
      ],
      "text/plain": [
       "\u001b[1m{\u001b[0m\n",
       "  \u001b[32m\"dev\"\u001b[0m: \u001b[1m{\u001b[0m\n",
       "    \u001b[32m\"host\"\u001b[0m: \u001b[32m\"dev.com\"\u001b[0m,\n",
       "    \u001b[32m\"port\"\u001b[0m: \u001b[1;36m3000\u001b[0m,\n",
       "    \u001b[32m\"timeout\"\u001b[0m: \u001b[1;36m30\u001b[0m\n",
       "  \u001b[1m}\u001b[0m,\n",
       "  \u001b[32m\"prod\"\u001b[0m: \u001b[1m{\u001b[0m\n",
       "    \u001b[32m\"host\"\u001b[0m: \u001b[32m\"prod.com\"\u001b[0m,\n",
       "    \u001b[32m\"port\"\u001b[0m: \u001b[1;36m8080\u001b[0m,\n",
       "    \u001b[32m\"timeout\"\u001b[0m: \u001b[1;36m30\u001b[0m\n",
       "  \u001b[1m}\u001b[0m\n",
       "\u001b[1m}\u001b[0m\n"
      ]
     },
     "metadata": {},
     "output_type": "display_data"
    }
   ],
   "source": [
    "from config_patterns.patterns.hierarchy.api import apply_shared_value\n",
    "\n",
    "# Example: Process a complete configuration\n",
    "config = {\n",
    "    \"_shared\": {\n",
    "        \"*.port\": 3000,\n",
    "        \"*.timeout\": 30\n",
    "    },\n",
    "    \"dev\": {\"host\": \"dev.com\"},\n",
    "    \"prod\": {\"host\": \"prod.com\", \"port\": 8080}\n",
    "}\n",
    "\n",
    "apply_shared_value(config)\n",
    "\n",
    "jprint(config)"
   ]
  },
  {
   "cell_type": "markdown",
   "metadata": {},
   "source": [
    "**When to use `apply_shared_value()`:**\n",
    "- ✅ Processing complete configuration files\n",
    "- ✅ Standard use case with `_shared` sections\n",
    "- ✅ Production configuration management\n",
    "- ✅ Most common use case - start here!\n",
    "\n",
    "---\n",
    "\n",
    "## Real-World Examples\n",
    "\n",
    "### Example 1: Microservice Configuration"
   ]
  },
  {
   "cell_type": "code",
   "execution_count": 13,
   "metadata": {},
   "outputs": [],
   "source": [
    "# Real-world microservice configuration\n",
    "microservice_config = {\n",
    "    \"_shared\": {\n",
    "        # Database defaults\n",
    "        \"*.database.pool_size\": 10,\n",
    "        \"*.database.timeout\": 30,\n",
    "        \"*.database.retry_attempts\": 3,\n",
    "        \n",
    "        # Redis defaults  \n",
    "        \"*.redis.timeout\": 5,\n",
    "        \"*.redis.pool_size\": 20,\n",
    "        \n",
    "        # Logging defaults\n",
    "        \"*.logging.format\": \"json\",\n",
    "        \"*.logging.level\": \"INFO\",\n",
    "        \n",
    "        # HTTP defaults\n",
    "        \"*.http.timeout\": 10,\n",
    "        \"*.http.retry_attempts\": 3\n",
    "    },\n",
    "    \"local\": {\n",
    "        \"database\": {\n",
    "            \"host\": \"localhost\",\n",
    "            \"port\": 5432,\n",
    "            \"name\": \"myapp_dev\"\n",
    "        },\n",
    "        \"redis\": {\n",
    "            \"host\": \"localhost\", \n",
    "            \"port\": 6379\n",
    "        },\n",
    "        \"logging\": {\n",
    "            \"level\": \"DEBUG\"  # Override for local development\n",
    "        },\n",
    "        \"http\": {\n",
    "            \"base_url\": \"http://localhost:8000\"\n",
    "        }\n",
    "    },\n",
    "    \"staging\": {\n",
    "        \"database\": {\n",
    "            \"host\": \"staging-db.company.com\",\n",
    "            \"port\": 5432,\n",
    "            \"name\": \"myapp_staging\",\n",
    "            \"pool_size\": 20  # Override for staging load\n",
    "        },\n",
    "        \"redis\": {\n",
    "            \"host\": \"staging-redis.company.com\",\n",
    "            \"port\": 6379\n",
    "        },\n",
    "        \"logging\": {},\n",
    "        \"http\": {\n",
    "            \"base_url\": \"https://staging-api.company.com\"\n",
    "        }\n",
    "    },\n",
    "    \"production\": {\n",
    "        \"database\": {\n",
    "            \"host\": \"prod-db.company.com\",\n",
    "            \"port\": 5432,\n",
    "            \"name\": \"myapp_prod\",\n",
    "            \"pool_size\": 50,      # Production needs more connections\n",
    "            \"timeout\": 60         # Production can wait longer\n",
    "        },\n",
    "        \"redis\": {\n",
    "            \"host\": \"prod-redis.company.com\",\n",
    "            \"port\": 6379,\n",
    "            \"pool_size\": 100      # Production needs larger pool\n",
    "        },\n",
    "        \"logging\": {\n",
    "            \"level\": \"ERROR\"      # Production only logs errors\n",
    "        },\n",
    "        \"http\": {\n",
    "            \"base_url\": \"https://api.company.com\",\n",
    "            \"timeout\": 30         # Production can wait longer\n",
    "        }\n",
    "    }\n",
    "}\n",
    "\n",
    "apply_shared_value(microservice_config)"
   ]
  },
  {
   "cell_type": "markdown",
   "metadata": {},
   "source": [
    "After processing, each environment gets:\n",
    "- ✅ All the appropriate defaults from `_shared`\n",
    "- ✅ Environment-specific host/URL configurations  \n",
    "- ✅ Performance tuning overrides where needed\n",
    "- ✅ No duplication of common settings"
   ]
  },
  {
   "cell_type": "code",
   "execution_count": 14,
   "metadata": {},
   "outputs": [
    {
     "data": {
      "text/html": [
       "<pre style=\"white-space:pre;overflow-x:auto;line-height:normal;font-family:Menlo,'DejaVu Sans Mono',consolas,'Courier New',monospace\"><span style=\"font-weight: bold\">{</span>\n",
       "  <span style=\"color: #008000; text-decoration-color: #008000\">\"local\"</span>: <span style=\"font-weight: bold\">{</span>\n",
       "    <span style=\"color: #008000; text-decoration-color: #008000\">\"database\"</span>: <span style=\"font-weight: bold\">{</span>\n",
       "      <span style=\"color: #008000; text-decoration-color: #008000\">\"host\"</span>: <span style=\"color: #008000; text-decoration-color: #008000\">\"localhost\"</span>,\n",
       "      <span style=\"color: #008000; text-decoration-color: #008000\">\"port\"</span>: <span style=\"color: #008080; text-decoration-color: #008080; font-weight: bold\">5432</span>,\n",
       "      <span style=\"color: #008000; text-decoration-color: #008000\">\"name\"</span>: <span style=\"color: #008000; text-decoration-color: #008000\">\"myapp_dev\"</span>,\n",
       "      <span style=\"color: #008000; text-decoration-color: #008000\">\"pool_size\"</span>: <span style=\"color: #008080; text-decoration-color: #008080; font-weight: bold\">10</span>,\n",
       "      <span style=\"color: #008000; text-decoration-color: #008000\">\"timeout\"</span>: <span style=\"color: #008080; text-decoration-color: #008080; font-weight: bold\">30</span>,\n",
       "      <span style=\"color: #008000; text-decoration-color: #008000\">\"retry_attempts\"</span>: <span style=\"color: #008080; text-decoration-color: #008080; font-weight: bold\">3</span>\n",
       "    <span style=\"font-weight: bold\">}</span>,\n",
       "    <span style=\"color: #008000; text-decoration-color: #008000\">\"redis\"</span>: <span style=\"font-weight: bold\">{</span>\n",
       "      <span style=\"color: #008000; text-decoration-color: #008000\">\"host\"</span>: <span style=\"color: #008000; text-decoration-color: #008000\">\"localhost\"</span>,\n",
       "      <span style=\"color: #008000; text-decoration-color: #008000\">\"port\"</span>: <span style=\"color: #008080; text-decoration-color: #008080; font-weight: bold\">6379</span>,\n",
       "      <span style=\"color: #008000; text-decoration-color: #008000\">\"timeout\"</span>: <span style=\"color: #008080; text-decoration-color: #008080; font-weight: bold\">5</span>,\n",
       "      <span style=\"color: #008000; text-decoration-color: #008000\">\"pool_size\"</span>: <span style=\"color: #008080; text-decoration-color: #008080; font-weight: bold\">20</span>\n",
       "    <span style=\"font-weight: bold\">}</span>,\n",
       "    <span style=\"color: #008000; text-decoration-color: #008000\">\"logging\"</span>: <span style=\"font-weight: bold\">{</span>\n",
       "      <span style=\"color: #008000; text-decoration-color: #008000\">\"level\"</span>: <span style=\"color: #008000; text-decoration-color: #008000\">\"DEBUG\"</span>,\n",
       "      <span style=\"color: #008000; text-decoration-color: #008000\">\"format\"</span>: <span style=\"color: #008000; text-decoration-color: #008000\">\"json\"</span>\n",
       "    <span style=\"font-weight: bold\">}</span>,\n",
       "    <span style=\"color: #008000; text-decoration-color: #008000\">\"http\"</span>: <span style=\"font-weight: bold\">{</span>\n",
       "      <span style=\"color: #008000; text-decoration-color: #008000\">\"base_url\"</span>: <span style=\"color: #008000; text-decoration-color: #008000\">\"http://localhost:8000\"</span>,\n",
       "      <span style=\"color: #008000; text-decoration-color: #008000\">\"timeout\"</span>: <span style=\"color: #008080; text-decoration-color: #008080; font-weight: bold\">10</span>,\n",
       "      <span style=\"color: #008000; text-decoration-color: #008000\">\"retry_attempts\"</span>: <span style=\"color: #008080; text-decoration-color: #008080; font-weight: bold\">3</span>\n",
       "    <span style=\"font-weight: bold\">}</span>\n",
       "  <span style=\"font-weight: bold\">}</span>,\n",
       "  <span style=\"color: #008000; text-decoration-color: #008000\">\"staging\"</span>: <span style=\"font-weight: bold\">{</span>\n",
       "    <span style=\"color: #008000; text-decoration-color: #008000\">\"database\"</span>: <span style=\"font-weight: bold\">{</span>\n",
       "      <span style=\"color: #008000; text-decoration-color: #008000\">\"host\"</span>: <span style=\"color: #008000; text-decoration-color: #008000\">\"staging-db.company.com\"</span>,\n",
       "      <span style=\"color: #008000; text-decoration-color: #008000\">\"port\"</span>: <span style=\"color: #008080; text-decoration-color: #008080; font-weight: bold\">5432</span>,\n",
       "      <span style=\"color: #008000; text-decoration-color: #008000\">\"name\"</span>: <span style=\"color: #008000; text-decoration-color: #008000\">\"myapp_staging\"</span>,\n",
       "      <span style=\"color: #008000; text-decoration-color: #008000\">\"pool_size\"</span>: <span style=\"color: #008080; text-decoration-color: #008080; font-weight: bold\">20</span>,\n",
       "      <span style=\"color: #008000; text-decoration-color: #008000\">\"timeout\"</span>: <span style=\"color: #008080; text-decoration-color: #008080; font-weight: bold\">30</span>,\n",
       "      <span style=\"color: #008000; text-decoration-color: #008000\">\"retry_attempts\"</span>: <span style=\"color: #008080; text-decoration-color: #008080; font-weight: bold\">3</span>\n",
       "    <span style=\"font-weight: bold\">}</span>,\n",
       "    <span style=\"color: #008000; text-decoration-color: #008000\">\"redis\"</span>: <span style=\"font-weight: bold\">{</span>\n",
       "      <span style=\"color: #008000; text-decoration-color: #008000\">\"host\"</span>: <span style=\"color: #008000; text-decoration-color: #008000\">\"staging-redis.company.com\"</span>,\n",
       "      <span style=\"color: #008000; text-decoration-color: #008000\">\"port\"</span>: <span style=\"color: #008080; text-decoration-color: #008080; font-weight: bold\">6379</span>,\n",
       "      <span style=\"color: #008000; text-decoration-color: #008000\">\"timeout\"</span>: <span style=\"color: #008080; text-decoration-color: #008080; font-weight: bold\">5</span>,\n",
       "      <span style=\"color: #008000; text-decoration-color: #008000\">\"pool_size\"</span>: <span style=\"color: #008080; text-decoration-color: #008080; font-weight: bold\">20</span>\n",
       "    <span style=\"font-weight: bold\">}</span>,\n",
       "    <span style=\"color: #008000; text-decoration-color: #008000\">\"logging\"</span>: <span style=\"font-weight: bold\">{</span>\n",
       "      <span style=\"color: #008000; text-decoration-color: #008000\">\"format\"</span>: <span style=\"color: #008000; text-decoration-color: #008000\">\"json\"</span>,\n",
       "      <span style=\"color: #008000; text-decoration-color: #008000\">\"level\"</span>: <span style=\"color: #008000; text-decoration-color: #008000\">\"INFO\"</span>\n",
       "    <span style=\"font-weight: bold\">}</span>,\n",
       "    <span style=\"color: #008000; text-decoration-color: #008000\">\"http\"</span>: <span style=\"font-weight: bold\">{</span>\n",
       "      <span style=\"color: #008000; text-decoration-color: #008000\">\"base_url\"</span>: <span style=\"color: #008000; text-decoration-color: #008000\">\"https://staging-api.company.com\"</span>,\n",
       "      <span style=\"color: #008000; text-decoration-color: #008000\">\"timeout\"</span>: <span style=\"color: #008080; text-decoration-color: #008080; font-weight: bold\">10</span>,\n",
       "      <span style=\"color: #008000; text-decoration-color: #008000\">\"retry_attempts\"</span>: <span style=\"color: #008080; text-decoration-color: #008080; font-weight: bold\">3</span>\n",
       "    <span style=\"font-weight: bold\">}</span>\n",
       "  <span style=\"font-weight: bold\">}</span>,\n",
       "  <span style=\"color: #008000; text-decoration-color: #008000\">\"production\"</span>: <span style=\"font-weight: bold\">{</span>\n",
       "    <span style=\"color: #008000; text-decoration-color: #008000\">\"database\"</span>: <span style=\"font-weight: bold\">{</span>\n",
       "      <span style=\"color: #008000; text-decoration-color: #008000\">\"host\"</span>: <span style=\"color: #008000; text-decoration-color: #008000\">\"prod-db.company.com\"</span>,\n",
       "      <span style=\"color: #008000; text-decoration-color: #008000\">\"port\"</span>: <span style=\"color: #008080; text-decoration-color: #008080; font-weight: bold\">5432</span>,\n",
       "      <span style=\"color: #008000; text-decoration-color: #008000\">\"name\"</span>: <span style=\"color: #008000; text-decoration-color: #008000\">\"myapp_prod\"</span>,\n",
       "      <span style=\"color: #008000; text-decoration-color: #008000\">\"pool_size\"</span>: <span style=\"color: #008080; text-decoration-color: #008080; font-weight: bold\">50</span>,\n",
       "      <span style=\"color: #008000; text-decoration-color: #008000\">\"timeout\"</span>: <span style=\"color: #008080; text-decoration-color: #008080; font-weight: bold\">60</span>,\n",
       "      <span style=\"color: #008000; text-decoration-color: #008000\">\"retry_attempts\"</span>: <span style=\"color: #008080; text-decoration-color: #008080; font-weight: bold\">3</span>\n",
       "    <span style=\"font-weight: bold\">}</span>,\n",
       "    <span style=\"color: #008000; text-decoration-color: #008000\">\"redis\"</span>: <span style=\"font-weight: bold\">{</span>\n",
       "      <span style=\"color: #008000; text-decoration-color: #008000\">\"host\"</span>: <span style=\"color: #008000; text-decoration-color: #008000\">\"prod-redis.company.com\"</span>,\n",
       "      <span style=\"color: #008000; text-decoration-color: #008000\">\"port\"</span>: <span style=\"color: #008080; text-decoration-color: #008080; font-weight: bold\">6379</span>,\n",
       "      <span style=\"color: #008000; text-decoration-color: #008000\">\"pool_size\"</span>: <span style=\"color: #008080; text-decoration-color: #008080; font-weight: bold\">100</span>,\n",
       "      <span style=\"color: #008000; text-decoration-color: #008000\">\"timeout\"</span>: <span style=\"color: #008080; text-decoration-color: #008080; font-weight: bold\">5</span>\n",
       "    <span style=\"font-weight: bold\">}</span>,\n",
       "    <span style=\"color: #008000; text-decoration-color: #008000\">\"logging\"</span>: <span style=\"font-weight: bold\">{</span>\n",
       "      <span style=\"color: #008000; text-decoration-color: #008000\">\"level\"</span>: <span style=\"color: #008000; text-decoration-color: #008000\">\"ERROR\"</span>,\n",
       "      <span style=\"color: #008000; text-decoration-color: #008000\">\"format\"</span>: <span style=\"color: #008000; text-decoration-color: #008000\">\"json\"</span>\n",
       "    <span style=\"font-weight: bold\">}</span>,\n",
       "    <span style=\"color: #008000; text-decoration-color: #008000\">\"http\"</span>: <span style=\"font-weight: bold\">{</span>\n",
       "      <span style=\"color: #008000; text-decoration-color: #008000\">\"base_url\"</span>: <span style=\"color: #008000; text-decoration-color: #008000\">\"https://api.company.com\"</span>,\n",
       "      <span style=\"color: #008000; text-decoration-color: #008000\">\"timeout\"</span>: <span style=\"color: #008080; text-decoration-color: #008080; font-weight: bold\">30</span>,\n",
       "      <span style=\"color: #008000; text-decoration-color: #008000\">\"retry_attempts\"</span>: <span style=\"color: #008080; text-decoration-color: #008080; font-weight: bold\">3</span>\n",
       "    <span style=\"font-weight: bold\">}</span>\n",
       "  <span style=\"font-weight: bold\">}</span>\n",
       "<span style=\"font-weight: bold\">}</span>\n",
       "</pre>\n"
      ],
      "text/plain": [
       "\u001b[1m{\u001b[0m\n",
       "  \u001b[32m\"local\"\u001b[0m: \u001b[1m{\u001b[0m\n",
       "    \u001b[32m\"database\"\u001b[0m: \u001b[1m{\u001b[0m\n",
       "      \u001b[32m\"host\"\u001b[0m: \u001b[32m\"localhost\"\u001b[0m,\n",
       "      \u001b[32m\"port\"\u001b[0m: \u001b[1;36m5432\u001b[0m,\n",
       "      \u001b[32m\"name\"\u001b[0m: \u001b[32m\"myapp_dev\"\u001b[0m,\n",
       "      \u001b[32m\"pool_size\"\u001b[0m: \u001b[1;36m10\u001b[0m,\n",
       "      \u001b[32m\"timeout\"\u001b[0m: \u001b[1;36m30\u001b[0m,\n",
       "      \u001b[32m\"retry_attempts\"\u001b[0m: \u001b[1;36m3\u001b[0m\n",
       "    \u001b[1m}\u001b[0m,\n",
       "    \u001b[32m\"redis\"\u001b[0m: \u001b[1m{\u001b[0m\n",
       "      \u001b[32m\"host\"\u001b[0m: \u001b[32m\"localhost\"\u001b[0m,\n",
       "      \u001b[32m\"port\"\u001b[0m: \u001b[1;36m6379\u001b[0m,\n",
       "      \u001b[32m\"timeout\"\u001b[0m: \u001b[1;36m5\u001b[0m,\n",
       "      \u001b[32m\"pool_size\"\u001b[0m: \u001b[1;36m20\u001b[0m\n",
       "    \u001b[1m}\u001b[0m,\n",
       "    \u001b[32m\"logging\"\u001b[0m: \u001b[1m{\u001b[0m\n",
       "      \u001b[32m\"level\"\u001b[0m: \u001b[32m\"DEBUG\"\u001b[0m,\n",
       "      \u001b[32m\"format\"\u001b[0m: \u001b[32m\"json\"\u001b[0m\n",
       "    \u001b[1m}\u001b[0m,\n",
       "    \u001b[32m\"http\"\u001b[0m: \u001b[1m{\u001b[0m\n",
       "      \u001b[32m\"base_url\"\u001b[0m: \u001b[32m\"http://localhost:8000\"\u001b[0m,\n",
       "      \u001b[32m\"timeout\"\u001b[0m: \u001b[1;36m10\u001b[0m,\n",
       "      \u001b[32m\"retry_attempts\"\u001b[0m: \u001b[1;36m3\u001b[0m\n",
       "    \u001b[1m}\u001b[0m\n",
       "  \u001b[1m}\u001b[0m,\n",
       "  \u001b[32m\"staging\"\u001b[0m: \u001b[1m{\u001b[0m\n",
       "    \u001b[32m\"database\"\u001b[0m: \u001b[1m{\u001b[0m\n",
       "      \u001b[32m\"host\"\u001b[0m: \u001b[32m\"staging-db.company.com\"\u001b[0m,\n",
       "      \u001b[32m\"port\"\u001b[0m: \u001b[1;36m5432\u001b[0m,\n",
       "      \u001b[32m\"name\"\u001b[0m: \u001b[32m\"myapp_staging\"\u001b[0m,\n",
       "      \u001b[32m\"pool_size\"\u001b[0m: \u001b[1;36m20\u001b[0m,\n",
       "      \u001b[32m\"timeout\"\u001b[0m: \u001b[1;36m30\u001b[0m,\n",
       "      \u001b[32m\"retry_attempts\"\u001b[0m: \u001b[1;36m3\u001b[0m\n",
       "    \u001b[1m}\u001b[0m,\n",
       "    \u001b[32m\"redis\"\u001b[0m: \u001b[1m{\u001b[0m\n",
       "      \u001b[32m\"host\"\u001b[0m: \u001b[32m\"staging-redis.company.com\"\u001b[0m,\n",
       "      \u001b[32m\"port\"\u001b[0m: \u001b[1;36m6379\u001b[0m,\n",
       "      \u001b[32m\"timeout\"\u001b[0m: \u001b[1;36m5\u001b[0m,\n",
       "      \u001b[32m\"pool_size\"\u001b[0m: \u001b[1;36m20\u001b[0m\n",
       "    \u001b[1m}\u001b[0m,\n",
       "    \u001b[32m\"logging\"\u001b[0m: \u001b[1m{\u001b[0m\n",
       "      \u001b[32m\"format\"\u001b[0m: \u001b[32m\"json\"\u001b[0m,\n",
       "      \u001b[32m\"level\"\u001b[0m: \u001b[32m\"INFO\"\u001b[0m\n",
       "    \u001b[1m}\u001b[0m,\n",
       "    \u001b[32m\"http\"\u001b[0m: \u001b[1m{\u001b[0m\n",
       "      \u001b[32m\"base_url\"\u001b[0m: \u001b[32m\"https://staging-api.company.com\"\u001b[0m,\n",
       "      \u001b[32m\"timeout\"\u001b[0m: \u001b[1;36m10\u001b[0m,\n",
       "      \u001b[32m\"retry_attempts\"\u001b[0m: \u001b[1;36m3\u001b[0m\n",
       "    \u001b[1m}\u001b[0m\n",
       "  \u001b[1m}\u001b[0m,\n",
       "  \u001b[32m\"production\"\u001b[0m: \u001b[1m{\u001b[0m\n",
       "    \u001b[32m\"database\"\u001b[0m: \u001b[1m{\u001b[0m\n",
       "      \u001b[32m\"host\"\u001b[0m: \u001b[32m\"prod-db.company.com\"\u001b[0m,\n",
       "      \u001b[32m\"port\"\u001b[0m: \u001b[1;36m5432\u001b[0m,\n",
       "      \u001b[32m\"name\"\u001b[0m: \u001b[32m\"myapp_prod\"\u001b[0m,\n",
       "      \u001b[32m\"pool_size\"\u001b[0m: \u001b[1;36m50\u001b[0m,\n",
       "      \u001b[32m\"timeout\"\u001b[0m: \u001b[1;36m60\u001b[0m,\n",
       "      \u001b[32m\"retry_attempts\"\u001b[0m: \u001b[1;36m3\u001b[0m\n",
       "    \u001b[1m}\u001b[0m,\n",
       "    \u001b[32m\"redis\"\u001b[0m: \u001b[1m{\u001b[0m\n",
       "      \u001b[32m\"host\"\u001b[0m: \u001b[32m\"prod-redis.company.com\"\u001b[0m,\n",
       "      \u001b[32m\"port\"\u001b[0m: \u001b[1;36m6379\u001b[0m,\n",
       "      \u001b[32m\"pool_size\"\u001b[0m: \u001b[1;36m100\u001b[0m,\n",
       "      \u001b[32m\"timeout\"\u001b[0m: \u001b[1;36m5\u001b[0m\n",
       "    \u001b[1m}\u001b[0m,\n",
       "    \u001b[32m\"logging\"\u001b[0m: \u001b[1m{\u001b[0m\n",
       "      \u001b[32m\"level\"\u001b[0m: \u001b[32m\"ERROR\"\u001b[0m,\n",
       "      \u001b[32m\"format\"\u001b[0m: \u001b[32m\"json\"\u001b[0m\n",
       "    \u001b[1m}\u001b[0m,\n",
       "    \u001b[32m\"http\"\u001b[0m: \u001b[1m{\u001b[0m\n",
       "      \u001b[32m\"base_url\"\u001b[0m: \u001b[32m\"https://api.company.com\"\u001b[0m,\n",
       "      \u001b[32m\"timeout\"\u001b[0m: \u001b[1;36m30\u001b[0m,\n",
       "      \u001b[32m\"retry_attempts\"\u001b[0m: \u001b[1;36m3\u001b[0m\n",
       "    \u001b[1m}\u001b[0m\n",
       "  \u001b[1m}\u001b[0m\n",
       "\u001b[1m}\u001b[0m\n"
      ]
     },
     "metadata": {},
     "output_type": "display_data"
    }
   ],
   "source": [
    "jprint(microservice_config)"
   ]
  },
  {
   "cell_type": "markdown",
   "metadata": {},
   "source": [
    "### Example 2: Multi-Tenant SaaS Configuration"
   ]
  },
  {
   "cell_type": "code",
   "execution_count": 15,
   "metadata": {},
   "outputs": [],
   "source": [
    "# SaaS application with multiple tenants\n",
    "saas_config = {\n",
    "    \"_shared\": {\n",
    "        # Default resource limits\n",
    "        \"*.tenants.*.cpu_limit\": 1,\n",
    "        \"*.tenants.*.memory_limit\": 2, \n",
    "        \"*.tenants.*.storage_limit\": 10,\n",
    "        \n",
    "        # Default feature flags\n",
    "        \"*.tenants.*.features.analytics\": True,\n",
    "        \"*.tenants.*.features.api_access\": True,\n",
    "        \"*.tenants.*.features.custom_domain\": False,\n",
    "        \n",
    "        # Default billing\n",
    "        \"*.tenants.*.billing.plan\": \"basic\",\n",
    "        \"*.tenants.*.billing.trial_days\": 14\n",
    "    },\n",
    "    \"dev\": {\n",
    "        \"tenants\": {\n",
    "            \"test_tenant\": {\n",
    "                \"name\": \"Test Company\",\n",
    "                # Gets all defaults\n",
    "                \"features\": {},\n",
    "                \"billing\": {}\n",
    "            }\n",
    "        }\n",
    "    },\n",
    "    \"prod\": {\n",
    "        \"tenants\": {\n",
    "            \"startup_co\": {\n",
    "                \"name\": \"Startup Co\",\n",
    "                \"billing\": {\"plan\": \"startup\"},  # Override plan\n",
    "                # Other defaults inherited\n",
    "                \"features\": {},\n",
    "                \"billing\": {}\n",
    "            },\n",
    "            \"enterprise_corp\": {\n",
    "                \"name\": \"Enterprise Corp\", \n",
    "                \"cpu_limit\": 8,           # Enterprise gets more resources\n",
    "                \"memory_limit\": 16,\n",
    "                \"storage_limit\": 1000,\n",
    "                \"features\": {\n",
    "                    \"custom_domain\": True,  # Enterprise feature\n",
    "                    \"sso\": True            # Additional enterprise feature\n",
    "                },\n",
    "                \"billing\": {\n",
    "                    \"plan\": \"enterprise\",\n",
    "                    \"trial_days\": 30       # Longer trial\n",
    "                }\n",
    "            }\n",
    "        }\n",
    "    }\n",
    "}\n",
    "\n",
    "apply_shared_value(saas_config)"
   ]
  },
  {
   "cell_type": "markdown",
   "metadata": {},
   "source": [
    "This pattern allows you to:\n",
    "- 🎯 Set sensible defaults for all tenants\n",
    "- 🚀 Quickly onboard new tenants with minimal configuration\n",
    "- 💰 Easily implement tiered pricing with resource overrides\n",
    "- 🔧 Maintain consistent feature flags across environments"
   ]
  },
  {
   "cell_type": "code",
   "execution_count": 16,
   "metadata": {},
   "outputs": [
    {
     "data": {
      "text/html": [
       "<pre style=\"white-space:pre;overflow-x:auto;line-height:normal;font-family:Menlo,'DejaVu Sans Mono',consolas,'Courier New',monospace\"><span style=\"font-weight: bold\">{</span>\n",
       "  <span style=\"color: #008000; text-decoration-color: #008000\">\"dev\"</span>: <span style=\"font-weight: bold\">{</span>\n",
       "    <span style=\"color: #008000; text-decoration-color: #008000\">\"tenants\"</span>: <span style=\"font-weight: bold\">{</span>\n",
       "      <span style=\"color: #008000; text-decoration-color: #008000\">\"test_tenant\"</span>: <span style=\"font-weight: bold\">{</span>\n",
       "        <span style=\"color: #008000; text-decoration-color: #008000\">\"name\"</span>: <span style=\"color: #008000; text-decoration-color: #008000\">\"Test Company\"</span>,\n",
       "        <span style=\"color: #008000; text-decoration-color: #008000\">\"features\"</span>: <span style=\"font-weight: bold\">{</span>\n",
       "          <span style=\"color: #008000; text-decoration-color: #008000\">\"analytics\"</span>: true,\n",
       "          <span style=\"color: #008000; text-decoration-color: #008000\">\"api_access\"</span>: true,\n",
       "          <span style=\"color: #008000; text-decoration-color: #008000\">\"custom_domain\"</span>: false\n",
       "        <span style=\"font-weight: bold\">}</span>,\n",
       "        <span style=\"color: #008000; text-decoration-color: #008000\">\"billing\"</span>: <span style=\"font-weight: bold\">{</span>\n",
       "          <span style=\"color: #008000; text-decoration-color: #008000\">\"plan\"</span>: <span style=\"color: #008000; text-decoration-color: #008000\">\"basic\"</span>,\n",
       "          <span style=\"color: #008000; text-decoration-color: #008000\">\"trial_days\"</span>: <span style=\"color: #008080; text-decoration-color: #008080; font-weight: bold\">14</span>\n",
       "        <span style=\"font-weight: bold\">}</span>,\n",
       "        <span style=\"color: #008000; text-decoration-color: #008000\">\"cpu_limit\"</span>: <span style=\"color: #008080; text-decoration-color: #008080; font-weight: bold\">1</span>,\n",
       "        <span style=\"color: #008000; text-decoration-color: #008000\">\"memory_limit\"</span>: <span style=\"color: #008080; text-decoration-color: #008080; font-weight: bold\">2</span>,\n",
       "        <span style=\"color: #008000; text-decoration-color: #008000\">\"storage_limit\"</span>: <span style=\"color: #008080; text-decoration-color: #008080; font-weight: bold\">10</span>\n",
       "      <span style=\"font-weight: bold\">}</span>\n",
       "    <span style=\"font-weight: bold\">}</span>\n",
       "  <span style=\"font-weight: bold\">}</span>,\n",
       "  <span style=\"color: #008000; text-decoration-color: #008000\">\"prod\"</span>: <span style=\"font-weight: bold\">{</span>\n",
       "    <span style=\"color: #008000; text-decoration-color: #008000\">\"tenants\"</span>: <span style=\"font-weight: bold\">{</span>\n",
       "      <span style=\"color: #008000; text-decoration-color: #008000\">\"startup_co\"</span>: <span style=\"font-weight: bold\">{</span>\n",
       "        <span style=\"color: #008000; text-decoration-color: #008000\">\"name\"</span>: <span style=\"color: #008000; text-decoration-color: #008000\">\"Startup Co\"</span>,\n",
       "        <span style=\"color: #008000; text-decoration-color: #008000\">\"billing\"</span>: <span style=\"font-weight: bold\">{</span>\n",
       "          <span style=\"color: #008000; text-decoration-color: #008000\">\"plan\"</span>: <span style=\"color: #008000; text-decoration-color: #008000\">\"basic\"</span>,\n",
       "          <span style=\"color: #008000; text-decoration-color: #008000\">\"trial_days\"</span>: <span style=\"color: #008080; text-decoration-color: #008080; font-weight: bold\">14</span>\n",
       "        <span style=\"font-weight: bold\">}</span>,\n",
       "        <span style=\"color: #008000; text-decoration-color: #008000\">\"features\"</span>: <span style=\"font-weight: bold\">{</span>\n",
       "          <span style=\"color: #008000; text-decoration-color: #008000\">\"analytics\"</span>: true,\n",
       "          <span style=\"color: #008000; text-decoration-color: #008000\">\"api_access\"</span>: true,\n",
       "          <span style=\"color: #008000; text-decoration-color: #008000\">\"custom_domain\"</span>: false\n",
       "        <span style=\"font-weight: bold\">}</span>,\n",
       "        <span style=\"color: #008000; text-decoration-color: #008000\">\"cpu_limit\"</span>: <span style=\"color: #008080; text-decoration-color: #008080; font-weight: bold\">1</span>,\n",
       "        <span style=\"color: #008000; text-decoration-color: #008000\">\"memory_limit\"</span>: <span style=\"color: #008080; text-decoration-color: #008080; font-weight: bold\">2</span>,\n",
       "        <span style=\"color: #008000; text-decoration-color: #008000\">\"storage_limit\"</span>: <span style=\"color: #008080; text-decoration-color: #008080; font-weight: bold\">10</span>\n",
       "      <span style=\"font-weight: bold\">}</span>,\n",
       "      <span style=\"color: #008000; text-decoration-color: #008000\">\"enterprise_corp\"</span>: <span style=\"font-weight: bold\">{</span>\n",
       "        <span style=\"color: #008000; text-decoration-color: #008000\">\"name\"</span>: <span style=\"color: #008000; text-decoration-color: #008000\">\"Enterprise Corp\"</span>,\n",
       "        <span style=\"color: #008000; text-decoration-color: #008000\">\"cpu_limit\"</span>: <span style=\"color: #008080; text-decoration-color: #008080; font-weight: bold\">8</span>,\n",
       "        <span style=\"color: #008000; text-decoration-color: #008000\">\"memory_limit\"</span>: <span style=\"color: #008080; text-decoration-color: #008080; font-weight: bold\">16</span>,\n",
       "        <span style=\"color: #008000; text-decoration-color: #008000\">\"storage_limit\"</span>: <span style=\"color: #008080; text-decoration-color: #008080; font-weight: bold\">1000</span>,\n",
       "        <span style=\"color: #008000; text-decoration-color: #008000\">\"features\"</span>: <span style=\"font-weight: bold\">{</span>\n",
       "          <span style=\"color: #008000; text-decoration-color: #008000\">\"custom_domain\"</span>: true,\n",
       "          <span style=\"color: #008000; text-decoration-color: #008000\">\"sso\"</span>: true,\n",
       "          <span style=\"color: #008000; text-decoration-color: #008000\">\"analytics\"</span>: true,\n",
       "          <span style=\"color: #008000; text-decoration-color: #008000\">\"api_access\"</span>: true\n",
       "        <span style=\"font-weight: bold\">}</span>,\n",
       "        <span style=\"color: #008000; text-decoration-color: #008000\">\"billing\"</span>: <span style=\"font-weight: bold\">{</span>\n",
       "          <span style=\"color: #008000; text-decoration-color: #008000\">\"plan\"</span>: <span style=\"color: #008000; text-decoration-color: #008000\">\"enterprise\"</span>,\n",
       "          <span style=\"color: #008000; text-decoration-color: #008000\">\"trial_days\"</span>: <span style=\"color: #008080; text-decoration-color: #008080; font-weight: bold\">30</span>\n",
       "        <span style=\"font-weight: bold\">}</span>\n",
       "      <span style=\"font-weight: bold\">}</span>\n",
       "    <span style=\"font-weight: bold\">}</span>\n",
       "  <span style=\"font-weight: bold\">}</span>\n",
       "<span style=\"font-weight: bold\">}</span>\n",
       "</pre>\n"
      ],
      "text/plain": [
       "\u001b[1m{\u001b[0m\n",
       "  \u001b[32m\"dev\"\u001b[0m: \u001b[1m{\u001b[0m\n",
       "    \u001b[32m\"tenants\"\u001b[0m: \u001b[1m{\u001b[0m\n",
       "      \u001b[32m\"test_tenant\"\u001b[0m: \u001b[1m{\u001b[0m\n",
       "        \u001b[32m\"name\"\u001b[0m: \u001b[32m\"Test Company\"\u001b[0m,\n",
       "        \u001b[32m\"features\"\u001b[0m: \u001b[1m{\u001b[0m\n",
       "          \u001b[32m\"analytics\"\u001b[0m: true,\n",
       "          \u001b[32m\"api_access\"\u001b[0m: true,\n",
       "          \u001b[32m\"custom_domain\"\u001b[0m: false\n",
       "        \u001b[1m}\u001b[0m,\n",
       "        \u001b[32m\"billing\"\u001b[0m: \u001b[1m{\u001b[0m\n",
       "          \u001b[32m\"plan\"\u001b[0m: \u001b[32m\"basic\"\u001b[0m,\n",
       "          \u001b[32m\"trial_days\"\u001b[0m: \u001b[1;36m14\u001b[0m\n",
       "        \u001b[1m}\u001b[0m,\n",
       "        \u001b[32m\"cpu_limit\"\u001b[0m: \u001b[1;36m1\u001b[0m,\n",
       "        \u001b[32m\"memory_limit\"\u001b[0m: \u001b[1;36m2\u001b[0m,\n",
       "        \u001b[32m\"storage_limit\"\u001b[0m: \u001b[1;36m10\u001b[0m\n",
       "      \u001b[1m}\u001b[0m\n",
       "    \u001b[1m}\u001b[0m\n",
       "  \u001b[1m}\u001b[0m,\n",
       "  \u001b[32m\"prod\"\u001b[0m: \u001b[1m{\u001b[0m\n",
       "    \u001b[32m\"tenants\"\u001b[0m: \u001b[1m{\u001b[0m\n",
       "      \u001b[32m\"startup_co\"\u001b[0m: \u001b[1m{\u001b[0m\n",
       "        \u001b[32m\"name\"\u001b[0m: \u001b[32m\"Startup Co\"\u001b[0m,\n",
       "        \u001b[32m\"billing\"\u001b[0m: \u001b[1m{\u001b[0m\n",
       "          \u001b[32m\"plan\"\u001b[0m: \u001b[32m\"basic\"\u001b[0m,\n",
       "          \u001b[32m\"trial_days\"\u001b[0m: \u001b[1;36m14\u001b[0m\n",
       "        \u001b[1m}\u001b[0m,\n",
       "        \u001b[32m\"features\"\u001b[0m: \u001b[1m{\u001b[0m\n",
       "          \u001b[32m\"analytics\"\u001b[0m: true,\n",
       "          \u001b[32m\"api_access\"\u001b[0m: true,\n",
       "          \u001b[32m\"custom_domain\"\u001b[0m: false\n",
       "        \u001b[1m}\u001b[0m,\n",
       "        \u001b[32m\"cpu_limit\"\u001b[0m: \u001b[1;36m1\u001b[0m,\n",
       "        \u001b[32m\"memory_limit\"\u001b[0m: \u001b[1;36m2\u001b[0m,\n",
       "        \u001b[32m\"storage_limit\"\u001b[0m: \u001b[1;36m10\u001b[0m\n",
       "      \u001b[1m}\u001b[0m,\n",
       "      \u001b[32m\"enterprise_corp\"\u001b[0m: \u001b[1m{\u001b[0m\n",
       "        \u001b[32m\"name\"\u001b[0m: \u001b[32m\"Enterprise Corp\"\u001b[0m,\n",
       "        \u001b[32m\"cpu_limit\"\u001b[0m: \u001b[1;36m8\u001b[0m,\n",
       "        \u001b[32m\"memory_limit\"\u001b[0m: \u001b[1;36m16\u001b[0m,\n",
       "        \u001b[32m\"storage_limit\"\u001b[0m: \u001b[1;36m1000\u001b[0m,\n",
       "        \u001b[32m\"features\"\u001b[0m: \u001b[1m{\u001b[0m\n",
       "          \u001b[32m\"custom_domain\"\u001b[0m: true,\n",
       "          \u001b[32m\"sso\"\u001b[0m: true,\n",
       "          \u001b[32m\"analytics\"\u001b[0m: true,\n",
       "          \u001b[32m\"api_access\"\u001b[0m: true\n",
       "        \u001b[1m}\u001b[0m,\n",
       "        \u001b[32m\"billing\"\u001b[0m: \u001b[1m{\u001b[0m\n",
       "          \u001b[32m\"plan\"\u001b[0m: \u001b[32m\"enterprise\"\u001b[0m,\n",
       "          \u001b[32m\"trial_days\"\u001b[0m: \u001b[1;36m30\u001b[0m\n",
       "        \u001b[1m}\u001b[0m\n",
       "      \u001b[1m}\u001b[0m\n",
       "    \u001b[1m}\u001b[0m\n",
       "  \u001b[1m}\u001b[0m\n",
       "\u001b[1m}\u001b[0m\n"
      ]
     },
     "metadata": {},
     "output_type": "display_data"
    }
   ],
   "source": [
    "jprint(saas_config)"
   ]
  },
  {
   "cell_type": "markdown",
   "metadata": {},
   "source": [
    "---\n",
    "\n",
    "## Best Practices\n",
    "\n",
    "### 1. Design Patterns\n",
    "\n",
    "#### ✅ DO: Start with Broad Defaults, Then Specialize"
   ]
  },
  {
   "cell_type": "code",
   "execution_count": 17,
   "metadata": {},
   "outputs": [],
   "source": [
    "# Good: Broad defaults with specific overrides\n",
    "config = {\n",
    "    \"_shared\": {\n",
    "        \"*.memory\": 2,           # Broad default\n",
    "        \"prod.*.memory\": 8       # Environment-specific override\n",
    "    },\n",
    "    \"dev\": {\"api\": {}, \"worker\": {}},\n",
    "    \"prod\": {\"api\": {}, \"worker\": {\"memory\": 16}}  # Service-specific override\n",
    "}"
   ]
  },
  {
   "cell_type": "markdown",
   "metadata": {},
   "source": [
    "#### ❌ DON'T: Over-specify in Shared"
   ]
  },
  {
   "cell_type": "code",
   "execution_count": 18,
   "metadata": {},
   "outputs": [],
   "source": [
    "# Bad: Too specific in _shared\n",
    "config = {\n",
    "    \"_shared\": {\n",
    "        \"dev.api.memory\": 2,\n",
    "        \"dev.worker.memory\": 2,\n",
    "        \"prod.api.memory\": 8,\n",
    "        \"prod.worker.memory\": 8   # This defeats the purpose!\n",
    "    }\n",
    "}"
   ]
  },
  {
   "cell_type": "markdown",
   "metadata": {},
   "source": [
    "#### ✅ DO: Use Nested `_shared` for Logical Grouping"
   ]
  },
  {
   "cell_type": "code",
   "execution_count": 19,
   "metadata": {},
   "outputs": [],
   "source": [
    "# Good: Logical grouping with nested _shared\n",
    "config = {\n",
    "    \"_shared\": {\n",
    "        \"*.log_level\": \"INFO\"     # Global setting\n",
    "    },\n",
    "    \"dev\": {\n",
    "        \"_shared\": {\n",
    "            \"*.debug\": True,       # Dev-specific settings\n",
    "            \"*.hot_reload\": True\n",
    "        },\n",
    "        \"api\": {},\n",
    "        \"worker\": {}\n",
    "    }\n",
    "}"
   ]
  },
  {
   "cell_type": "markdown",
   "metadata": {},
   "source": [
    "### 2. Path Pattern Guidelines\n",
    "\n",
    "#### Use Wildcards Strategically"
   ]
  },
  {
   "cell_type": "code",
   "execution_count": 20,
   "metadata": {},
   "outputs": [
    {
     "data": {
      "text/plain": [
       "''"
      ]
     },
     "execution_count": 20,
     "metadata": {},
     "output_type": "execute_result"
    }
   ],
   "source": [
    "# ✅ Good patterns\n",
    "\"*.timeout\"              # All environments\n",
    "\"*.database.port\"        # All database configs\n",
    "\"prod.*.memory\"          # All prod services\n",
    "\"*.services.*.cpu\"       # All services in all environments\n",
    "\n",
    "# ❌ Avoid these patterns  \n",
    "\"*.*.*.*\"               # Too generic\n",
    "\"very.specific.deep.path.field\"  # Too specific\n",
    ";"
   ]
  },
  {
   "cell_type": "markdown",
   "metadata": {},
   "source": [
    "#### Establish Naming Conventions"
   ]
  },
  {
   "cell_type": "code",
   "execution_count": 21,
   "metadata": {},
   "outputs": [],
   "source": [
    "# ✅ Consistent naming helps pattern matching\n",
    "config = {\n",
    "    \"_shared\": {\n",
    "        \"*.database_primary.port\": 5432,\n",
    "        \"*.database_replica.port\": 5433,\n",
    "        \"*.cache_redis.port\": 6379\n",
    "    }\n",
    "}"
   ]
  },
  {
   "cell_type": "markdown",
   "metadata": {},
   "source": [
    "### 3. Configuration Organization\n",
    "\n",
    "#### Group Related Settings"
   ]
  },
  {
   "cell_type": "code",
   "execution_count": 22,
   "metadata": {},
   "outputs": [],
   "source": [
    "# ✅ Well-organized configuration\n",
    "config = {\n",
    "    \"_shared\": {\n",
    "        # Database cluster\n",
    "        \"*.database.port\": 5432,\n",
    "        \"*.database.pool_size\": 10,\n",
    "        \"*.database.timeout\": 30,\n",
    "        \n",
    "        # Caching layer\n",
    "        \"*.cache.ttl\": 3600,\n",
    "        \"*.cache.max_size\": 1000,\n",
    "        \n",
    "        # Monitoring\n",
    "        \"*.monitoring.enabled\": True,\n",
    "        \"*.monitoring.interval\": 60\n",
    "    }\n",
    "}"
   ]
  },
  {
   "cell_type": "markdown",
   "metadata": {},
   "source": [
    "#### Document Your Patterns"
   ]
  },
  {
   "cell_type": "code",
   "execution_count": 23,
   "metadata": {},
   "outputs": [],
   "source": [
    "config = {\n",
    "    \"_shared\": {\n",
    "        # Resource defaults - production overrides these\n",
    "        \"*.memory\": 2,           # GB\n",
    "        \"*.cpu\": 1,              # cores\n",
    "        \n",
    "        # Network timeouts - keep aggressive for responsiveness\n",
    "        \"*.timeout\": 30,         # seconds\n",
    "        \"*.retry_attempts\": 3,   # count\n",
    "        \n",
    "        # Feature flags - enable by default, disable selectively  \n",
    "        \"*.features.metrics\": True,\n",
    "        \"*.features.tracing\": True\n",
    "    }\n",
    "}"
   ]
  },
  {
   "cell_type": "markdown",
   "metadata": {},
   "source": [
    "### 4. Test Your Configuration Processing"
   ]
  },
  {
   "cell_type": "code",
   "execution_count": 24,
   "metadata": {},
   "outputs": [],
   "source": [
    "def test_config_inheritance():\n",
    "    config = {\n",
    "        \"_shared\": {\"*.port\": 3000},\n",
    "        \"dev\": {\"host\": \"localhost\"},\n",
    "        \"prod\": {\"host\": \"prod.com\", \"port\": 8080}\n",
    "    }\n",
    "    \n",
    "    apply_shared_value(config)\n",
    "    \n",
    "    # Validate inheritance worked\n",
    "    assert config[\"dev\"][\"port\"] == 3000      # Inherited\n",
    "    assert config[\"prod\"][\"port\"] == 8080     # Preserved override\n",
    "    assert \"_shared\" not in config            # Cleaned up\n",
    "\n",
    "test_config_inheritance()"
   ]
  },
  {
   "cell_type": "markdown",
   "metadata": {},
   "source": [
    "### 5. Error Prevention\n",
    "\n",
    "#### Validate Paths Before Processing"
   ]
  },
  {
   "cell_type": "code",
   "execution_count": 25,
   "metadata": {},
   "outputs": [],
   "source": [
    "def validate_shared_paths(shared_config):\n",
    "    \"\"\"Validate _shared path patterns\"\"\"\n",
    "    for path in shared_config.keys():\n",
    "        if path.endswith(\"*\"):\n",
    "            raise ValueError(f\"Path cannot end with '*': {path}\")\n",
    "        \n",
    "        if \"..\" in path:\n",
    "            raise ValueError(f\"Path cannot contain '..': {path}\")"
   ]
  },
  {
   "cell_type": "markdown",
   "metadata": {},
   "source": [
    "#### Handle Missing Intermediate Keys"
   ]
  },
  {
   "cell_type": "code",
   "execution_count": 26,
   "metadata": {},
   "outputs": [],
   "source": [
    "# ❌ This will raise KeyError if 'database' doesn't exist\n",
    "config = {\n",
    "    \"_shared\": {\"*.database.port\": 5432},\n",
    "    \"dev\": {}  # No 'database' key\n",
    "}\n",
    "\n",
    "# ✅ Better: Ensure intermediate structures exist\n",
    "config = {\n",
    "    \"_shared\": {\"*.database.port\": 5432},\n",
    "    \"dev\": {\"database\": {}}  # Provide empty database config\n",
    "}"
   ]
  },
  {
   "cell_type": "markdown",
   "metadata": {},
   "source": [
    "---\n",
    "\n",
    "## Summary\n",
    "\n",
    "The Hierarchical Configuration Inheritance Pattern solves the fundamental problem of **configuration duplication** in multi-environment applications. By using `_shared` sections and JSON path patterns, you can:\n",
    "\n",
    "### 🎯 **Key Benefits**\n",
    "- **Eliminate Duplication**: Define common settings once\n",
    "- **Reduce Errors**: Single source of truth for defaults\n",
    "- **Scale Easily**: Add new environments with minimal config\n",
    "- **Override Flexibly**: Keep environment-specific customizations\n",
    "- **Maintain Simply**: Change defaults in one place\n",
    "\n",
    "### 🚀 **When to Use This Pattern**\n",
    "- ✅ Multi-environment deployments (dev/staging/prod)\n",
    "- ✅ Microservice configurations with shared defaults\n",
    "- ✅ Multi-tenant applications with tiered features\n",
    "- ✅ Configuration templates with customization points\n",
    "- ✅ Any scenario with repetitive configuration data\n",
    "\n",
    "### 🛠️ **Getting Started**\n",
    "1. Identify duplicated configuration values\n",
    "2. Extract them to a `_shared` section  \n",
    "3. Use `*.field` patterns for broad defaults\n",
    "4. Use `env.field` patterns for specific overrides\n",
    "5. Call `apply_shared_value()` to process your config\n",
    "\n",
    "The pattern transforms configuration management from a maintenance burden into a powerful tool for organizing and scaling your application configurations."
   ]
  },
  {
   "cell_type": "code",
   "execution_count": null,
   "metadata": {},
   "outputs": [],
   "source": []
  }
 ],
 "metadata": {
  "kernelspec": {
   "display_name": "Python 3 (ipykernel)",
   "language": "python",
   "name": "python3"
  },
  "language_info": {
   "codemirror_mode": {
    "name": "ipython",
    "version": 3
   },
   "file_extension": ".py",
   "mimetype": "text/x-python",
   "name": "python",
   "nbconvert_exporter": "python",
   "pygments_lexer": "ipython3",
   "version": "3.11.8"
  }
 },
 "nbformat": 4,
 "nbformat_minor": 4
}
